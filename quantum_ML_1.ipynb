{
 "cells": [
  {
   "cell_type": "code",
   "execution_count": 1,
   "id": "e2e08451",
   "metadata": {},
   "outputs": [
    {
     "name": "stdout",
     "output_type": "stream",
     "text": [
      "Collecting pennylane\n",
      "  Downloading PennyLane-0.38.0-py3-none-any.whl (1.9 MB)\n",
      "Collecting autoray>=0.6.11\n",
      "  Downloading autoray-0.6.12-py3-none-any.whl (50 kB)\n",
      "Collecting pennylane-lightning>=0.38\n",
      "  Downloading PennyLane_Lightning-0.38.0-cp39-cp39-win_amd64.whl (5.8 MB)\n",
      "Collecting rustworkx>=0.14.0\n",
      "  Downloading rustworkx-0.15.1-cp38-abi3-win_amd64.whl (1.8 MB)\n",
      "Requirement already satisfied: requests in d:\\programowanie\\python\\anaconda\\lib\\site-packages (from pennylane) (2.27.1)\n",
      "Requirement already satisfied: numpy<2.0 in d:\\programowanie\\python\\anaconda\\lib\\site-packages (from pennylane) (1.21.5)\n",
      "Collecting autograd\n",
      "  Downloading autograd-1.7.0-py3-none-any.whl (52 kB)\n",
      "Requirement already satisfied: appdirs in d:\\programowanie\\python\\anaconda\\lib\\site-packages (from pennylane) (1.4.4)\n",
      "Requirement already satisfied: cachetools in d:\\programowanie\\python\\anaconda\\lib\\site-packages (from pennylane) (4.2.2)\n",
      "Requirement already satisfied: scipy in d:\\programowanie\\python\\anaconda\\lib\\site-packages (from pennylane) (1.7.3)\n",
      "Requirement already satisfied: toml in d:\\programowanie\\python\\anaconda\\lib\\site-packages (from pennylane) (0.10.2)\n",
      "Requirement already satisfied: packaging in d:\\programowanie\\python\\anaconda\\lib\\site-packages (from pennylane) (23.0)\n",
      "Requirement already satisfied: networkx in d:\\programowanie\\python\\anaconda\\lib\\site-packages (from pennylane) (2.7.1)\n",
      "Requirement already satisfied: typing-extensions in d:\\programowanie\\python\\anaconda\\lib\\site-packages (from pennylane) (4.10.0)\n",
      "Requirement already satisfied: certifi>=2017.4.17 in d:\\programowanie\\python\\anaconda\\lib\\site-packages (from requests->pennylane) (2021.10.8)\n",
      "Requirement already satisfied: urllib3<1.27,>=1.21.1 in d:\\programowanie\\python\\anaconda\\lib\\site-packages (from requests->pennylane) (1.26.9)\n",
      "Requirement already satisfied: charset-normalizer~=2.0.0 in d:\\programowanie\\python\\anaconda\\lib\\site-packages (from requests->pennylane) (2.0.4)\n",
      "Requirement already satisfied: idna<4,>=2.5 in d:\\programowanie\\python\\anaconda\\lib\\site-packages (from requests->pennylane) (3.3)\n",
      "Installing collected packages: rustworkx, pennylane-lightning, autoray, autograd, pennylane\n",
      "Successfully installed autograd-1.7.0 autoray-0.6.12 pennylane-0.38.0 pennylane-lightning-0.38.0 rustworkx-0.15.1\n"
     ]
    }
   ],
   "source": [
    "#!pip install pennylane"
   ]
  },
  {
   "cell_type": "code",
   "execution_count": 8,
   "id": "ac46d1b8",
   "metadata": {},
   "outputs": [
    {
     "name": "stdout",
     "output_type": "stream",
     "text": [
      "Collecting torch\n",
      "  Downloading torch-2.4.1-cp39-cp39-win_amd64.whl (199.3 MB)\n",
      "Requirement already satisfied: typing-extensions>=4.8.0 in d:\\programowanie\\python\\anaconda\\lib\\site-packages (from torch) (4.10.0)\n",
      "Requirement already satisfied: fsspec in d:\\programowanie\\python\\anaconda\\lib\\site-packages (from torch) (2022.11.0)\n",
      "Requirement already satisfied: networkx in d:\\programowanie\\python\\anaconda\\lib\\site-packages (from torch) (2.7.1)\n",
      "Requirement already satisfied: jinja2 in d:\\programowanie\\python\\anaconda\\lib\\site-packages (from torch) (2.11.3)\n",
      "Requirement already satisfied: filelock in d:\\programowanie\\python\\anaconda\\lib\\site-packages (from torch) (3.9.0)\n",
      "Requirement already satisfied: sympy in d:\\programowanie\\python\\anaconda\\lib\\site-packages (from torch) (1.10.1)\n",
      "Requirement already satisfied: MarkupSafe>=0.23 in d:\\programowanie\\python\\anaconda\\lib\\site-packages (from jinja2->torch) (2.0.1)\n",
      "Requirement already satisfied: mpmath>=0.19 in d:\\programowanie\\python\\anaconda\\lib\\site-packages (from sympy->torch) (1.2.1)\n",
      "Installing collected packages: torch\n",
      "Successfully installed torch-2.4.1\n"
     ]
    }
   ],
   "source": [
    "#!pip install torch"
   ]
  },
  {
   "cell_type": "code",
   "execution_count": 1,
   "id": "43d080bf",
   "metadata": {},
   "outputs": [
    {
     "data": {
      "text/plain": [
       "3125"
      ]
     },
     "execution_count": 1,
     "metadata": {},
     "output_type": "execute_result"
    }
   ],
   "source": [
    "#1\n",
    "5**5"
   ]
  },
  {
   "cell_type": "code",
   "execution_count": 2,
   "id": "f0c7a531",
   "metadata": {},
   "outputs": [
    {
     "name": "stdout",
     "output_type": "stream",
     "text": [
      "123\n"
     ]
    },
    {
     "data": {
      "text/plain": [
       "1"
      ]
     },
     "execution_count": 2,
     "metadata": {},
     "output_type": "execute_result"
    }
   ],
   "source": [
    "#2\n",
    "str(input()).count('3')"
   ]
  },
  {
   "cell_type": "code",
   "execution_count": 3,
   "id": "331dab0f",
   "metadata": {},
   "outputs": [
    {
     "data": {
      "text/plain": [
       "1"
      ]
     },
     "execution_count": 3,
     "metadata": {},
     "output_type": "execute_result"
    }
   ],
   "source": [
    "#3\n",
    "l = [10, [3, 4], [5, [100, 200, [\"MDS\"]], 23, 11], 1, 7]\n",
    "l[3]"
   ]
  },
  {
   "cell_type": "code",
   "execution_count": 4,
   "id": "13299781",
   "metadata": {},
   "outputs": [
    {
     "data": {
      "text/plain": [
       "'MDS'"
      ]
     },
     "execution_count": 4,
     "metadata": {},
     "output_type": "execute_result"
    }
   ],
   "source": [
    "#4\n",
    "d = {\n",
    "    \"outer\": [\n",
    "        1,\n",
    "        2,\n",
    "        3,\n",
    "        {\"inner\": [\"this\", \"is\", \"inception\", {\"inner_inner\": [1, 2, 3, \"MDS\"]}]},\n",
    "    ]\n",
    "}\n",
    "d['outer'][3]['inner'][3]['inner_inner'][3]"
   ]
  },
  {
   "cell_type": "code",
   "execution_count": 5,
   "id": "e0c93259",
   "metadata": {},
   "outputs": [
    {
     "data": {
      "text/plain": [
       "'google'"
      ]
     },
     "execution_count": 5,
     "metadata": {},
     "output_type": "execute_result"
    }
   ],
   "source": [
    "#5\n",
    "def website(url):\n",
    "    domen_name = str(url).split('.')\n",
    "    return domen_name[1]\n",
    "website('www.google.com')"
   ]
  },
  {
   "cell_type": "code",
   "execution_count": 6,
   "id": "3e745538",
   "metadata": {},
   "outputs": [
    {
     "data": {
      "text/plain": [
       "[1, 4, 9, 16, 25, 36, 49, 64, 81]"
      ]
     },
     "execution_count": 6,
     "metadata": {},
     "output_type": "execute_result"
    }
   ],
   "source": [
    "#6\n",
    "l = [1, 2, 3, 4, 5, 6, 7, 8, 9]\n",
    "l_2 = [x**2 for x in l]\n",
    "l_2"
   ]
  },
  {
   "cell_type": "markdown",
   "id": "cc2b9afc",
   "metadata": {},
   "source": [
    "Regresja liniowa - liniowy związek między zmienną zależną (objaśnianą) a zmiennymi niezależnymi (objaśniającymi).\n",
    "Skala wyników jest dowolna: od -∞ do +∞. \n",
    "\n",
    "$f(x)=b_0+b_1x_1+...+b_nx_n$\n",
    "\n",
    "Regresja logistyczna - współczynniki regresji szacują iloraz szans dla zmiennych niezależnych. Skala wyników od 0 do 1.  \n",
    "$f(x)=1/(1+e^{-x})=1/(1+e^{-(b_0+b_1x_1+...+b_nx_n)})$"
   ]
  },
  {
   "cell_type": "markdown",
   "id": "9d277414",
   "metadata": {},
   "source": [
    "Model regresji liniowej można przedstawić jako rozwiązanie sieci neuronowej bez funkcji aktywacji, gdzie wagi stanowią oszacowania parametrów, parametry to warstwa wejściowa, a wyraz wolny to obciążenie.\n",
    "\n",
    "$f(x)=b_0+w_1x_1+...w_nx_n$\n",
    "\n",
    "Natomiast regresja logistyczna ma również funkcję aktywacji (sigmoid pokazany wyżej), która przekształca wartości wejściowe do prawdopodobieństw.\n",
    "\n",
    "$f(x)=1/(1+e^{-(b_0+w_1x_1+...w_nx_n)}) $"
   ]
  },
  {
   "cell_type": "markdown",
   "id": "873373bd",
   "metadata": {},
   "source": [
    "## Kod z cw2 - implementacja regresji w środowisku PyTorch ###"
   ]
  },
  {
   "cell_type": "markdown",
   "id": "455f9a6d",
   "metadata": {},
   "source": [
    "### Regresja liniowa ###"
   ]
  },
  {
   "cell_type": "code",
   "execution_count": 45,
   "id": "a50f9ba7",
   "metadata": {},
   "outputs": [
    {
     "name": "stdout",
     "output_type": "stream",
     "text": [
      "dane: [ 0.   0.5  1.   1.5  2.   2.5  3.   3.5  4.   4.5  5.   5.5  6.   6.5\n",
      "  7.   7.5  8.   8.5  9.   9.5 10.  10.5]\n",
      "target: [3.5747122088603307, 4.69696257097214, 5.736676603311067, 6.508357500546753, 7.457161488666202, 8.52844535735018, 9.22832598026873, 10.378557474179432, 11.203350347649776, 11.556161898642621, 13.293541404030345, 14.967301279323014, 14.39359185679979, 16.77898495715852, 16.304374794171068, 18.06958037992911, 19.270994653434162, 19.192870272700397, 21.71514518868846, 22.258068048918336, 23.104096332963614, 23.183489793474582]\n",
      "epoch: 10, loss = 3.1047\n",
      "epoch: 20, loss = 2.8161\n",
      "epoch: 30, loss = 2.5563\n",
      "epoch: 40, loss = 2.3224\n",
      "epoch: 50, loss = 2.1119\n",
      "epoch: 60, loss = 1.9224\n",
      "epoch: 70, loss = 1.7519\n",
      "epoch: 80, loss = 1.5983\n",
      "epoch: 90, loss = 1.4601\n",
      "epoch: 100, loss = 1.3357\n"
     ]
    },
    {
     "data": {
      "image/png": "[encoded data removed]",
      "text/plain": [
       "<Figure size 432x288 with 1 Axes>"
      ]
     },
     "metadata": {
      "needs_background": "light"
     },
     "output_type": "display_data"
    }
   ],
   "source": [
    "import torch\n",
    "import numpy as np\n",
    "import matplotlib.pyplot as plt\n",
    "\n",
    "class LinearRegression(torch.nn.Module):\n",
    "\n",
    "    def __init__(self, inputSize, outputSize):\n",
    "        super(LinearRegression, self).__init__()\n",
    "        self.linear = torch.nn.Linear(inputSize, outputSize)\n",
    "\n",
    "    def forward(self, x):\n",
    "        out = self.linear(x)\n",
    "        return out\n",
    "\n",
    "\n",
    "inputDim = 1\n",
    "outputDim = 1\n",
    "learningRate = 0.01\n",
    "epochs = 100\n",
    "\n",
    "model = LinearRegression(inputDim, outputDim)\n",
    "\n",
    "'''\n",
    "x = np.arange(11)\n",
    "print(f\"dane: {x}\")\n",
    "'''\n",
    "\n",
    "x = np.arange(0, 11, 0.5)\n",
    "print(f\"dane: {x}\")\n",
    "noise = np.random.uniform(-1, 1, size=len(x)) #dodanie \"szumu\" z rozkładem jednostajnym\n",
    "\n",
    "'''\n",
    "y = [2*el - 1 for el in x]\n",
    "print(f\"target: {y}\")\n",
    "'''\n",
    "y = [2 * el + 3 + n for el, n in zip(x, noise)] #stochastyczny element\n",
    "print(f\"target: {y}\")\n",
    "# y=2x+3+e\n",
    "\n",
    "# dostosowanie do pytorch\n",
    "y  = np.array(y, dtype=np.float32)\n",
    "x_train = np.array(x, dtype=np.float32)\n",
    "x_train, y_train = x_train.reshape(-1, 1), y.reshape(-1, 1)\n",
    "\n",
    "inputs = torch.from_numpy(x_train)\n",
    "outputs = torch.from_numpy(y_train)\n",
    "\n",
    "criterion = torch.nn.MSELoss() \n",
    "optimizer = torch.optim.SGD(model.parameters(), lr=learningRate)\n",
    "# petla uczaca \n",
    "for epoch in range(epochs):\n",
    "    # forward pass and loss\n",
    "    y_predicted = model(inputs)\n",
    "    loss = criterion(y_predicted, outputs)\n",
    "    \n",
    "    # backward pass\n",
    "    loss.backward()\n",
    "    \n",
    "    # updates\n",
    "    optimizer.step()\n",
    "    \n",
    "    # zero gradients\n",
    "    optimizer.zero_grad()\n",
    "    \n",
    "    if (epoch+1) % 10 == 0:\n",
    "        print(f'epoch: {epoch+1}, loss = {loss.item():.4f}')\n",
    "        \n",
    "with torch.no_grad():\n",
    "    predicted = model(inputs)\n",
    "    \n",
    "plt.clf()\n",
    "plt.plot(x_train, y_train, 'go', label='True data', alpha=0.5)\n",
    "plt.plot(x_train, predicted, '--', label='Predictions', alpha=0.5)\n",
    "plt.legend(loc='best')\n",
    "plt.show()"
   ]
  },
  {
   "cell_type": "markdown",
   "id": "b6b0914e",
   "metadata": {},
   "source": [
    "### Regresja logistyczna ###"
   ]
  },
  {
   "cell_type": "code",
   "execution_count": 78,
   "id": "de157929",
   "metadata": {},
   "outputs": [
    {
     "name": "stdout",
     "output_type": "stream",
     "text": [
      "dane: [ 0  1  2  3  4  5  6  7  8  9 10]\n",
      "target: [1, 0, 1, 1, 0, 0, 0, 1, 0, 1, 0]\n",
      "epoch: 10, loss = 3.3516\n",
      "epoch: 20, loss = 3.2564\n",
      "epoch: 30, loss = 3.1615\n",
      "epoch: 40, loss = 3.0669\n",
      "epoch: 50, loss = 2.9724\n",
      "epoch: 60, loss = 2.8784\n",
      "epoch: 70, loss = 2.7846\n",
      "epoch: 80, loss = 2.6912\n",
      "epoch: 90, loss = 2.5983\n",
      "epoch: 100, loss = 2.5058\n",
      "accuracy = 0.4545\n"
     ]
    }
   ],
   "source": [
    "import torch\n",
    "import numpy as np\n",
    "import matplotlib.pyplot as plt\n",
    "\n",
    "class LogisticRegression(torch.nn.Module):\n",
    "\n",
    "    def __init__(self, inputSize, outputSize):\n",
    "        super(LogisticRegression, self).__init__()\n",
    "        self.linear = torch.nn.Linear(inputSize, outputSize)\n",
    "\n",
    "    def forward(self, x):\n",
    "        x = self.linear(x)\n",
    "        y_pred = torch.sigmoid(x) #pojawia sie funkcja aktywacji\n",
    "        return y_pred\n",
    "\n",
    "\n",
    "inputDim = 1\n",
    "outputDim = 1\n",
    "learningRate = 0.001\n",
    "epochs = 100\n",
    "\n",
    "model = LogisticRegression(inputDim, outputDim)\n",
    "\n",
    "student_sgh = [0, 0, 1, 1, 0, 1, 1, 1, 0, 0]\n",
    "print(f\"dane: {x}\")\n",
    "\n",
    "y = [random.choice([0,1]) for _ in range(11)] #success\n",
    "print(f\"target: {y}\")\n",
    "\n",
    "# dostosowanie do pytorch\n",
    "y  = np.array(y, dtype=np.float32)\n",
    "x_train = np.array(x, dtype=np.float32)\n",
    "x_train, y_train = x_train.reshape(-1, 1), y.reshape(-1, 1)\n",
    "inputs = torch.from_numpy(x_train)\n",
    "outputs = torch.from_numpy(y_train)\n",
    "\n",
    "criterion = torch.nn.BCELoss() #changed from Entropy\n",
    "optimizer = torch.optim.SGD(model.parameters(), lr=learningRate)\n",
    "# petla uczaca \n",
    "for epoch in range(epochs):\n",
    "    # forward pass and loss\n",
    "    y_predicted = model(inputs)\n",
    "    loss = criterion(y_predicted, outputs)\n",
    "    \n",
    "    # backward pass\n",
    "    loss.backward()\n",
    "    \n",
    "    # updates\n",
    "    optimizer.step()\n",
    "    \n",
    "    # zero gradients\n",
    "    optimizer.zero_grad()\n",
    "    \n",
    "    if (epoch+1) % 10 == 0:\n",
    "        print(f'epoch: {epoch+1}, loss = {loss.item():.4f}')\n",
    "\n",
    "\n",
    "with torch.no_grad():\n",
    "    y_predicted = model(inputs) \n",
    "    binary_predictions = (y_predicted > 0.5).float() #to compare binary output with binary prediction\n",
    "    acc = binary_predictions.eq(outputs).sum() / float(y_train.shape[0])  # accuracy\n",
    "    print(f'accuracy = {acc:.4f}')"
   ]
  },
  {
   "cell_type": "markdown",
   "id": "9c8a02c0",
   "metadata": {},
   "source": [
    "W modelu regresji logistycznej korzysta się z funkcji aktywacji w celu przekształcenia wartości wyjściowych do prawdpodobieństw. "
   ]
  }
 ],
 "metadata": {
  "kernelspec": {
   "display_name": "Python 3 (ipykernel)",
   "language": "python",
   "name": "python3"
  },
  "language_info": {
   "codemirror_mode": {
    "name": "ipython",
    "version": 3
   },
   "file_extension": ".py",
   "mimetype": "text/x-python",
   "name": "python",
   "nbconvert_exporter": "python",
   "pygments_lexer": "ipython3",
   "version": "3.9.12"
  }
 },
 "nbformat": 4,
 "nbformat_minor": 5
}
