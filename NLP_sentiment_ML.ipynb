{
 "cells": [
  {
   "cell_type": "markdown",
   "id": "e82c3609-1c8f-4c59-8665-8a9499e1d0e0",
   "metadata": {
    "panel-layout": {
     "height": 60.575,
     "visible": true,
     "width": 100
    }
   },
   "source": [
    "# List of examples of the use of the NLP and Sentiment Analysis in science or practice with references to the literature"
   ]
  },
  {
   "cell_type": "markdown",
   "id": "b16be2dd-a4da-4558-8009-bef2f29c00f6",
   "metadata": {},
   "source": [
    "- Virtual assistants like Siri, Alexa and Google Assistant\n",
    "- Translation tools like Gooogle Translate\n",
    "- Customer service / feedback chatbots\n",
    "- Product reviews analysis\n",
    "- Market sentiment (news and social media)\n",
    "\n",
    "Andrew L. Maas, Raymond E. Daly, Peter T. Pham, Dan Huang, Andrew Y. Ng, and Christopher Potts. Learning Word Vectors for Sentiment Analysis. The 49th Annual Meeting of the Association for Computational Linguistics. 2011.\n",
    "\n",
    "Muhammad Taimoor Khan, Mehr Durrani, Armughan Ali, Irum Inayat, Shehzad Khalid & Kamran Habib Khan. Sentiment analysis and the complex natural language. Complex Adaptive Systems Modeling. Volume 4, article number 2. 2016.\n",
    "\n",
    "Anuja P Jain, Padma Dandannavar. Application of machine learning techniques to sentiment analysis. International Conference on Applied and Theoretical Computing and Communication Technology (iCATccT). 2016."
   ]
  },
  {
   "cell_type": "markdown",
   "id": "5ca4e37e-d8b6-4165-8e30-ce2f874a715a",
   "metadata": {
    "panel-layout": {
     "height": 60.575,
     "visible": true,
     "width": 100
    }
   },
   "source": [
    "# Indication of the selected library, functions and functions’ parameters"
   ]
  },
  {
   "cell_type": "markdown",
   "id": "15216648-c483-40ba-968a-133da203dcdf",
   "metadata": {},
   "source": [
    "- Natural Language Toolkit - https://www.nltk.org/\n",
    "- Porter Stemmer algorithm - https://tartarus.org/martin/PorterStemmer/def.txt\n",
    "- Word-Emotion association - https://saifmohammad.com/WebPages/NRC-Emotion-Lexicon.htm\n",
    "- Scikit-Learn - https://scikit-learn.org/stable/"
   ]
  },
  {
   "cell_type": "code",
   "execution_count": null,
   "id": "e7b61f17-57e4-48eb-a256-d312b07e3701",
   "metadata": {},
   "outputs": [],
   "source": [
    "#pip install pandas beautifulsoup4==4.12.3 nltk==3.8.1 wordcloud==1.9.4 matplotlib==3.8.4 nrclex numpy==1.26.4 scikit-learn==1.4.2 "
   ]
  },
  {
   "cell_type": "code",
   "execution_count": 1,
   "id": "4cffb747-6c65-446e-9310-607fc61983d7",
   "metadata": {},
   "outputs": [],
   "source": [
    "import pandas as pd #data processing\n",
    "from bs4 import BeautifulSoup #HTML tag removing\n",
    "import re #regular expressions for special characters handling\n",
    "import nltk\n",
    "from nltk.tokenize import word_tokenize #tokenization using NLTK library\n",
    "from nltk.corpus import stopwords #stopwords dictionary\n",
    "from nltk.stem.porter import PorterStemmer #stemming algorithm\n",
    "from sklearn.model_selection import train_test_split\n",
    "from sklearn.feature_extraction.text import TfidfVectorizer #numerical representation of text\n",
    "from wordcloud import WordCloud #Graphical representation of top-word in reviews\n",
    "import matplotlib.pyplot as plt #plots\n",
    "from nltk.corpus import opinion_lexicon #dictionary of positive and negative words provided by Standford university\n",
    "#import warnings\n",
    "#warnings.filterwarnings(\"ignore\", category=UserWarning, module='nltk') #to avoid warnings \n",
    "import numpy as np\n",
    "from nrclex import NRCLex #Word Emotion Association Lexicon\n",
    "from sklearn.linear_model import LogisticRegression #logistic regression model\n",
    "from sklearn.metrics import classification_report #precision, recall\n",
    "from sklearn.metrics import confusion_matrix #confusion matrix\n",
    "from sklearn.svm import SVC #Support Vector Classifier"
   ]
  },
  {
   "cell_type": "markdown",
   "id": "5a15418d-155d-4db2-b766-e8a5058489e6",
   "metadata": {},
   "source": [
    "Function to predict the sentiment of the review given the model. "
   ]
  },
  {
   "cell_type": "code",
   "execution_count": 2,
   "id": "f29d4844-010b-46e5-a50a-af77793182e5",
   "metadata": {},
   "outputs": [],
   "source": [
    "def preprocess_predict(rev, model, pattern=r\"[^a-zA-Z\\s']\"):\n",
    "    # Preprocess the text\n",
    "    rev = BeautifulSoup(rev).get_text() #HMTL\n",
    "    rev = re.sub(pattern, '', rev) #special characters\n",
    "    rev = word_tokenize(rev) #tokenization\n",
    "    rev = [word.lower() for word in rev if word.lower() not in stopwords_list] #stopwords\n",
    "    rev = [stemmer.stem(word) for word in rev] #stemmization \n",
    "    processed_rev = ' '.join(rev) #single string rather than separate words\n",
    "\n",
    "    processed_rev = tfidf.transform([processed_rev]) #TF-IDF vectorization\n",
    " \n",
    "    # Predict sentiment\n",
    "    prediction = model.predict(processed_rev)\n",
    "    return prediction[0]"
   ]
  },
  {
   "cell_type": "markdown",
   "id": "71223430-975e-4e2d-b2a2-fc6ac72749c2",
   "metadata": {},
   "source": [
    "Function to assign sentiment score for a tokenized review."
   ]
  },
  {
   "cell_type": "code",
   "execution_count": 3,
   "id": "4a80fd3d-c6c2-4242-8f24-b64cdb0a4469",
   "metadata": {},
   "outputs": [],
   "source": [
    "def assign_sent_scores(review, positive_words, negative_words):\n",
    "    pos_count = sum(1 for word in review if word in positive_words) #sum of positive words\n",
    "    neg_count = sum(1 for word in review if word in negative_words) #sum of negative words\n",
    "    return pos_count - neg_count "
   ]
  },
  {
   "cell_type": "markdown",
   "id": "83ae55aa-e63e-430d-aeaa-636ec1910394",
   "metadata": {},
   "source": [
    "Function to analyze emotional sentiment of a review. "
   ]
  },
  {
   "cell_type": "code",
   "execution_count": 4,
   "id": "5b875574-669b-4547-bfb0-75fe837bc2bb",
   "metadata": {},
   "outputs": [],
   "source": [
    "def get_emotion_scores(review):\n",
    "    emotion = NRCLex(review) #initializing the emotion analyis\n",
    "    \n",
    "    emotion_scores = emotion.raw_emotion_scores #dictionary of emotions\n",
    "\n",
    "    ##obtain emotion scores\n",
    "    emotion_results = {'anger': emotion_scores.get('anger', 0),\n",
    "                       'anticipation': emotion_scores.get('anticipation', 0),\n",
    "                       'disgust': emotion_scores.get('disgust', 0),\n",
    "                        'fear': emotion_scores.get('fear', 0),\n",
    "                        'joy': emotion_scores.get('joy', 0),\n",
    "                        'sadness': emotion_scores.get('sadness', 0),\n",
    "                        'surprise': emotion_scores.get('surprise', 0),\n",
    "                        'trust': emotion_scores.get('trust', 0),\n",
    "                        'negative': emotion_scores.get('negative', 0),\n",
    "                        'positive': emotion_scores.get('positive', 0),\n",
    "    }\n",
    "    return emotion_results"
   ]
  },
  {
   "cell_type": "markdown",
   "id": "f0fd6817-d3ea-4beb-b5fb-5c882fce3e99",
   "metadata": {
    "panel-layout": {
     "height": 60.575,
     "visible": true,
     "width": 100
    }
   },
   "source": [
    "# Data set characteristics"
   ]
  },
  {
   "cell_type": "markdown",
   "id": "5cae3c16-6970-4f8f-9b80-388360147ed6",
   "metadata": {
    "panel-layout": {
     "height": 97.4125,
     "visible": true,
     "width": 100
    }
   },
   "source": [
    "Large Movie Review Dataset source - https://ai.stanford.edu/~amaas/data/sentiment/\n",
    "\n",
    "Andrew L. Maas, Raymond E. Daly, Peter T. Pham, Dan Huang, Andrew Y. Ng, and Christopher Potts. (2011). Learning Word Vectors for Sentiment Analysis. The 49th Annual Meeting of the Association for Computational Linguistics (ACL 2011)."
   ]
  },
  {
   "cell_type": "code",
   "execution_count": 5,
   "id": "701e83f1-892d-45a1-b9bf-0003e5cb0254",
   "metadata": {
    "panel-layout": {
     "height": 848.4,
     "visible": true,
     "width": 100
    }
   },
   "outputs": [],
   "source": [
    "movie_data=pd.read_csv('IMDB Dataset.csv') "
   ]
  },
  {
   "cell_type": "code",
   "execution_count": 6,
   "id": "151ec988-2cbb-4f08-8f47-a4c1aa12237d",
   "metadata": {},
   "outputs": [
    {
     "name": "stdout",
     "output_type": "stream",
     "text": [
      "Dataset shape:  (50000, 2)\n"
     ]
    }
   ],
   "source": [
    "print(f'Dataset shape: ', movie_data.shape)"
   ]
  },
  {
   "cell_type": "markdown",
   "id": "8b8ba57b-f235-4d62-9051-ea1a71d92e4a",
   "metadata": {},
   "source": [
    "50 000 reviews labelled as either positive or negative"
   ]
  },
  {
   "cell_type": "markdown",
   "id": "8a9f5495-5f3a-4005-b0db-ac8578e50d51",
   "metadata": {},
   "source": [
    "5 first reviews"
   ]
  },
  {
   "cell_type": "code",
   "execution_count": 7,
   "id": "bb17da13-0037-4aaa-9f78-ae5768bf67b6",
   "metadata": {},
   "outputs": [
    {
     "name": "stdout",
     "output_type": "stream",
     "text": [
      "                                              review sentiment\n",
      "0  One of the other reviewers has mentioned that ...  positive\n",
      "1  A wonderful little production. <br /><br />The...  positive\n",
      "2  I thought this was a wonderful way to spend ti...  positive\n",
      "3  Basically there's a family where a little boy ...  negative\n",
      "4  Petter Mattei's \"Love in the Time of Money\" is...  positive\n"
     ]
    }
   ],
   "source": [
    "print(movie_data.head())"
   ]
  },
  {
   "cell_type": "code",
   "execution_count": 8,
   "id": "2fdcba06-4862-4374-9852-1a3f5158cbee",
   "metadata": {},
   "outputs": [
    {
     "name": "stdout",
     "output_type": "stream",
     "text": [
      "Missing values:\n",
      " review       0\n",
      "sentiment    0\n",
      "dtype: int64\n"
     ]
    }
   ],
   "source": [
    "print(\"Missing values:\\n\", movie_data.isnull().sum())"
   ]
  },
  {
   "cell_type": "markdown",
   "id": "80ed1579-ab97-4e16-b60a-ae3baec95910",
   "metadata": {
    "panel-layout": {
     "height": 44.07500076293945,
     "visible": true,
     "width": 100
    }
   },
   "source": [
    "### Column characteristics"
   ]
  },
  {
   "cell_type": "code",
   "execution_count": 9,
   "id": "56c6c4cd-b4a7-4441-b7f1-15aaede75b16",
   "metadata": {
    "panel-layout": {
     "height": 27.137500762939453,
     "visible": true,
     "width": 100
    }
   },
   "outputs": [
    {
     "name": "stdout",
     "output_type": "stream",
     "text": [
      "Number of non-unique reviews:  49582\n"
     ]
    }
   ],
   "source": [
    "print(f'Number of non-unique reviews: ', movie_data['review'].nunique())"
   ]
  },
  {
   "cell_type": "markdown",
   "id": "2ba865e2-1d93-4815-8550-4256903512b3",
   "metadata": {
    "panel-layout": {
     "height": 51.13750076293945,
     "visible": true,
     "width": 100
    }
   },
   "source": [
    "Reviews are not unique. It may happen due to single-word review. Some of them are duplicated intentionally by author to balance the target variable."
   ]
  },
  {
   "cell_type": "code",
   "execution_count": 10,
   "id": "7790081d-86c1-4447-aa40-0b88db404bb7",
   "metadata": {
    "panel-layout": {
     "height": 0,
     "visible": true,
     "width": 100
    }
   },
   "outputs": [
    {
     "name": "stdout",
     "output_type": "stream",
     "text": [
      "                                                  review sentiment\n",
      "34058  \"Go Fish\" garnered Rose Troche rightly or wron...  negative\n",
      "47467  \"Go Fish\" garnered Rose Troche rightly or wron...  negative\n",
      "29956  \"Three\" is a seriously dumb shipwreck movie. M...  negative\n",
      "31488  \"Three\" is a seriously dumb shipwreck movie. M...  negative\n",
      "47527  \"Witchery\" might just be the most incoherent a...  negative\n",
      "...                                                  ...       ...\n",
      "47876  this movie sucks. did anyone notice that the e...  negative\n",
      "44122  well, the writing was very sloppy, the directi...  negative\n",
      "23056  well, the writing was very sloppy, the directi...  negative\n",
      "10163  when I first heard about this movie, I noticed...  positive\n",
      "15305  when I first heard about this movie, I noticed...  positive\n",
      "\n",
      "[824 rows x 2 columns]\n"
     ]
    }
   ],
   "source": [
    "non_unique = movie_data.groupby('review').filter(lambda x: len(x) > 1)\n",
    "print(non_unique.sort_values('review'))"
   ]
  },
  {
   "cell_type": "code",
   "execution_count": 11,
   "id": "d22a846f-6524-440d-aa5b-8515c2ffcdf8",
   "metadata": {
    "panel-layout": {
     "height": 116.4000015258789,
     "visible": true,
     "width": 100
    }
   },
   "outputs": [
    {
     "data": {
      "text/plain": [
       "sentiment\n",
       "positive    25000\n",
       "negative    25000\n",
       "Name: count, dtype: int64"
      ]
     },
     "execution_count": 11,
     "metadata": {},
     "output_type": "execute_result"
    }
   ],
   "source": [
    "movie_data['sentiment'].value_counts()"
   ]
  },
  {
   "cell_type": "markdown",
   "id": "a36cc378-a5bd-40ac-8084-04ce1406ff76",
   "metadata": {
    "panel-layout": {
     "height": 51.13750076293945,
     "visible": true,
     "width": 100
    }
   },
   "source": [
    "Data is balanced. Duplicates are allowed for balancing the data. "
   ]
  },
  {
   "cell_type": "markdown",
   "id": "9f310eb9-4fa9-4530-974b-30853948ee82",
   "metadata": {},
   "source": [
    "### HTML tags"
   ]
  },
  {
   "cell_type": "code",
   "execution_count": 12,
   "id": "01fbb512-7d78-471e-959b-0a1d7459de58",
   "metadata": {},
   "outputs": [
    {
     "data": {
      "text/plain": [
       "\"One of the other reviewers has mentioned that after watching just 1 Oz episode you'll be hooked. They are right, as this is exactly what happened with me.<br /><br />The first thing that struck me about Oz was its brutality and unflinching scenes of violence, which set in right from the word GO. Trust me, this is not a show for the faint hearted or timid. This show pulls no punches with regards to drugs, sex or violence. Its is hardcore, in the classic use of the word.<br /><br />It is called OZ as that is the nickname given to the Oswald Maximum Security State Penitentary. It focuses mainly on Emerald City, an experimental section of the prison where all the cells have glass fronts and face inwards, so privacy is not high on the agenda. Em City is home to many..Aryans, Muslims, gangstas, Latinos, Christians, Italians, Irish and more....so scuffles, death stares, dodgy dealings and shady agreements are never far away.<br /><br />I would say the main appeal of the show is due to the fact that it goes where other shows wouldn't dare. Forget pretty pictures painted for mainstream audiences, forget charm, forget romance...OZ doesn't mess around. The first episode I ever saw struck me as so nasty it was surreal, I couldn't say I was ready for it, but as I watched more, I developed a taste for Oz, and got accustomed to the high levels of graphic violence. Not just violence, but injustice (crooked guards who'll be sold out for a nickel, inmates who'll kill on order and get away with it, well mannered, middle class inmates being turned into prison bitches due to their lack of street skills or prison experience) Watching Oz, you may become comfortable with what is uncomfortable viewing....thats if you can get in touch with your darker side.\""
      ]
     },
     "execution_count": 12,
     "metadata": {},
     "output_type": "execute_result"
    }
   ],
   "source": [
    "movie_data['review'][0]"
   ]
  },
  {
   "cell_type": "markdown",
   "id": "faf627ad-a046-4c02-9322-c2d8c9997c7d",
   "metadata": {},
   "source": [
    "Reviews may contain HTML tags like \\<br>, therefore text HTML pre-processing is needed. If review does not have any HTML elements, warning may appear."
   ]
  },
  {
   "cell_type": "code",
   "execution_count": 13,
   "id": "25a079ba-3257-43d6-b38c-b2a79b0bf25a",
   "metadata": {},
   "outputs": [
    {
     "name": "stderr",
     "output_type": "stream",
     "text": [
      "C:\\Windows\\Temp\\ipykernel_10328\\314088864.py:1: MarkupResemblesLocatorWarning: The input looks more like a filename than markup. You may want to open this file and pass the filehandle into Beautiful Soup.\n",
      "  movie_data['clean_review'] = movie_data['review'].apply(lambda rev: BeautifulSoup(rev).get_text())\n"
     ]
    }
   ],
   "source": [
    "movie_data['clean_review'] = movie_data['review'].apply(lambda rev: BeautifulSoup(rev).get_text())"
   ]
  },
  {
   "cell_type": "code",
   "execution_count": 14,
   "id": "77f84f0a-09be-4f08-9f55-f3b60b9961af",
   "metadata": {},
   "outputs": [],
   "source": [
    "#movie_data['clean_review'][0]"
   ]
  },
  {
   "cell_type": "markdown",
   "id": "43887173-5edf-4c38-b25b-582760b72608",
   "metadata": {},
   "source": [
    "### Special characters"
   ]
  },
  {
   "cell_type": "markdown",
   "id": "04132a4a-d129-415b-8870-65a9db59ee44",
   "metadata": {},
   "source": [
    "Special characters and digits like #, $, % should be removed. Only spaces and letters are left in review. The only non-whitespace symbol allowed is apostrophe to be handled by stopword dictionary."
   ]
  },
  {
   "cell_type": "code",
   "execution_count": 15,
   "id": "4bdf99f2-6801-4eeb-ba69-0ae9b0e40c9f",
   "metadata": {},
   "outputs": [],
   "source": [
    "pattern=r\"[^a-zA-Z\\s']\" \n",
    "movie_data['clean_review'] = movie_data['clean_review'].apply(lambda rev: re.sub(pattern, '', rev))"
   ]
  },
  {
   "cell_type": "code",
   "execution_count": 16,
   "id": "5672726a-0115-4a90-a9ec-3011e49be087",
   "metadata": {},
   "outputs": [],
   "source": [
    "#movie_data['clean_review'][0]"
   ]
  },
  {
   "cell_type": "markdown",
   "id": "c2221254-9845-442b-a791-1faf2b83ef5e",
   "metadata": {},
   "source": [
    "### Text tokenization"
   ]
  },
  {
   "cell_type": "markdown",
   "id": "52954937-dca1-41d5-b356-812ef4aee84e",
   "metadata": {},
   "source": [
    "Tokenization is the process of breaking down sentences into smaller, more manageable units. The task is to split the review into separate words."
   ]
  },
  {
   "cell_type": "code",
   "execution_count": 17,
   "id": "8d70fa3b-700f-4533-8a15-5ccad065b2f3",
   "metadata": {},
   "outputs": [],
   "source": [
    "movie_data['clean_token_review'] = movie_data['clean_review'].apply(word_tokenize)"
   ]
  },
  {
   "cell_type": "code",
   "execution_count": 18,
   "id": "20b44ed6-a519-4913-b077-10c859d83853",
   "metadata": {
    "scrolled": true
   },
   "outputs": [],
   "source": [
    "#movie_data['clean_token_review'][0]"
   ]
  },
  {
   "cell_type": "markdown",
   "id": "777f0777-b874-41e1-a8d6-caddc47b52bd",
   "metadata": {},
   "source": [
    "### Stopwords "
   ]
  },
  {
   "cell_type": "markdown",
   "id": "c2e570c1-2739-44d0-9384-c5cf5df1d161",
   "metadata": {},
   "source": [
    "For NLP modelling, stopwords do not add much value. By removing them, we focus only on the most important information. Case of the words is ignored to ensure that all of stopwords are correctly removed. "
   ]
  },
  {
   "cell_type": "code",
   "execution_count": 19,
   "id": "61cb7366-b8f4-497e-a875-b09b1678907f",
   "metadata": {
    "scrolled": true
   },
   "outputs": [
    {
     "data": {
      "text/plain": [
       "['i', 'me', 'my', 'myself', 'we', 'our', 'ours', 'ourselves', 'you', \"you're\"]"
      ]
     },
     "execution_count": 19,
     "metadata": {},
     "output_type": "execute_result"
    }
   ],
   "source": [
    "stopwords_list = stopwords.words('english')\n",
    "stopwords_list[0:10]"
   ]
  },
  {
   "cell_type": "code",
   "execution_count": 20,
   "id": "53adc5a2-2288-4daf-9343-f24296124468",
   "metadata": {},
   "outputs": [],
   "source": [
    "movie_data['clean_token_review'] = movie_data['clean_token_review'].apply(lambda rev: [word.lower() for word in rev if word.lower() not in stopwords_list])"
   ]
  },
  {
   "cell_type": "code",
   "execution_count": 21,
   "id": "46058b97-a57b-454b-9c64-9eb6dc158ce0",
   "metadata": {},
   "outputs": [],
   "source": [
    "#movie_data['clean_token_review'][0]"
   ]
  },
  {
   "cell_type": "markdown",
   "id": "18ff265d-8df7-4446-9085-8cf4c29d3b10",
   "metadata": {},
   "source": [
    "### Stemming"
   ]
  },
  {
   "cell_type": "markdown",
   "id": "3d575303-2f45-44f7-8c1e-d30e3a8fee42",
   "metadata": {},
   "source": [
    "Stemming aims to cut off the ends of words in order to obtain correct root form. Another option would be to use lemmatization - use base, dictionary form of a word. \n",
    "\n",
    "We use Porter Stemmer algorithm - set of morphological rules applied to English (e.g. sses --> ss; ies --> i)"
   ]
  },
  {
   "cell_type": "code",
   "execution_count": 22,
   "id": "3d906609-c126-47d0-bcc0-71f1ea7673d6",
   "metadata": {},
   "outputs": [],
   "source": [
    "stemmer = PorterStemmer()\n",
    "\n",
    "movie_data['clean_stem_review'] = movie_data['clean_token_review'].apply(lambda rev: [stemmer.stem(word) for word in rev])"
   ]
  },
  {
   "cell_type": "code",
   "execution_count": 23,
   "id": "2a880439-72ff-4aa3-b512-3b30473cdebd",
   "metadata": {},
   "outputs": [],
   "source": [
    "#movie_data['clean_stem_review'][0]"
   ]
  },
  {
   "cell_type": "markdown",
   "id": "47a45d06-7dcd-48c4-9703-736e85c15222",
   "metadata": {
    "panel-layout": {
     "height": 60.575,
     "visible": true,
     "width": 100
    }
   },
   "source": [
    "# Empirical analysis (goal, assumptions, results, interpretation)"
   ]
  },
  {
   "cell_type": "markdown",
   "id": "4a51e155-2b8a-4fcd-8dda-464ba11c06e6",
   "metadata": {},
   "source": [
    "Goal of the analysis is to correctly predict sentiment of the review using Machine Learning models."
   ]
  },
  {
   "cell_type": "code",
   "execution_count": 24,
   "id": "f064f0a9-dc9f-4a18-95a9-50fafc25529c",
   "metadata": {},
   "outputs": [],
   "source": [
    "X=movie_data['clean_stem_review']\n",
    "y=movie_data['sentiment']"
   ]
  },
  {
   "cell_type": "code",
   "execution_count": 25,
   "id": "8195742b-dc02-48bc-93ce-2f69eaca8dc0",
   "metadata": {},
   "outputs": [],
   "source": [
    "X = X.astype(str)  \n",
    "y = y.astype(str)"
   ]
  },
  {
   "cell_type": "markdown",
   "id": "cbeedca3-389e-468c-92b3-6bad2265cab9",
   "metadata": {},
   "source": [
    "As data is balanced there is no reason to stratify target variable. Number of observations is large enough to use 30% test size. "
   ]
  },
  {
   "cell_type": "code",
   "execution_count": 26,
   "id": "75995cb9-fa2e-475a-8117-6f5cb352bd77",
   "metadata": {},
   "outputs": [],
   "source": [
    "X_train, X_test, y_train, y_test = train_test_split(X, y, random_state=42, test_size=0.3) "
   ]
  },
  {
   "cell_type": "markdown",
   "id": "9dbe865c-1588-4e9f-aafc-317c51047575",
   "metadata": {},
   "source": [
    "### Numerical representation of text"
   ]
  },
  {
   "cell_type": "markdown",
   "id": "326e0090-eafa-4f6e-b186-4a1a9289443f",
   "metadata": {},
   "source": [
    "The first approach would have been Count Vectorizer. For each review, it counts the occurrences of each word helping to identify the most popular words for positive and negative reviews. It is simple and intuitive measure, however doesn't considering the importance of words within the entire dataset. "
   ]
  },
  {
   "cell_type": "markdown",
   "id": "87c8b17e-0959-4b93-b88b-b72edea9285f",
   "metadata": {},
   "source": [
    "For this purpose, TF-IDF model is used. \n",
    "- Term Frequency (TF) measures how often a word appears in a review, relative to the total words in that dataset.\n",
    "- Inverse Document Frequency (IDF) measures how common a word is across all reviews. The more reviews a word appears in, the lower its IDF score, reducing its weight. Words that are rare in the dataset get higher IDF scores.\n",
    "\n",
    "We focus on TF-IDF approach, as we assume that rare words may have greater power to distingiush sentiment."
   ]
  },
  {
   "cell_type": "markdown",
   "id": "063d77f9-8f08-4287-8374-6b44f16309e9",
   "metadata": {},
   "source": [
    "We fit to the training data only to avoid data leakage."
   ]
  },
  {
   "cell_type": "code",
   "execution_count": 27,
   "id": "05561166-5cd4-49e7-b0ab-50d2232ef2a8",
   "metadata": {},
   "outputs": [],
   "source": [
    "tfidf = TfidfVectorizer()\n",
    "train_x_tfidf = tfidf.fit_transform(X_train)\n",
    "test_x_tfidf = tfidf.transform(X_test)"
   ]
  },
  {
   "cell_type": "markdown",
   "id": "7fbcd2fc-8ef4-4e64-a77b-70a0db5d37bc",
   "metadata": {},
   "source": [
    "### Top words"
   ]
  },
  {
   "cell_type": "markdown",
   "id": "57da0d19-d8bd-4317-b14d-44b9d0c14756",
   "metadata": {},
   "source": [
    "Dictionary of words appearing in reviews based on the term frequency and inverse document frequency. "
   ]
  },
  {
   "cell_type": "code",
   "execution_count": 28,
   "id": "782493e2-afd1-4648-9f8f-494c7916e801",
   "metadata": {},
   "outputs": [
    {
     "data": {
      "text/plain": [
       "[('movi', 1843.483371278698),\n",
       " ('film', 1544.887345097486),\n",
       " ('one', 917.327820975015),\n",
       " ('like', 841.5243539376964),\n",
       " ('watch', 705.0867676543776),\n",
       " ('good', 692.0537966219316),\n",
       " ('time', 653.4612625297224),\n",
       " ('see', 642.6456435047278),\n",
       " ('charact', 621.208675977719),\n",
       " ('make', 619.7253827989489)]"
      ]
     },
     "execution_count": 28,
     "metadata": {},
     "output_type": "execute_result"
    }
   ],
   "source": [
    "feature_names = tfidf.get_feature_names_out()\n",
    "tfidf_scores = train_x_tfidf.sum(axis=0).A1\n",
    "word_frequencies = dict(zip(feature_names, tfidf_scores))\n",
    "top_10_words = sorted(word_frequencies.items(), key=lambda x: x[1], reverse=True)[:10]\n",
    "top_10_words "
   ]
  },
  {
   "cell_type": "markdown",
   "id": "b538615c-cc2c-42df-924f-9325e400bc2b",
   "metadata": {},
   "source": [
    "Word Cloud is used as graphical representation of the top words in reviews. "
   ]
  },
  {
   "cell_type": "code",
   "execution_count": 29,
   "id": "5798178c-bca4-4fb5-bdb4-f8c0138c7da9",
   "metadata": {},
   "outputs": [
    {
     "data": {
      "image/png": "[encoded data removed]",
      "text/plain": [
       "<Figure size 1000x500 with 1 Axes>"
      ]
     },
     "metadata": {},
     "output_type": "display_data"
    }
   ],
   "source": [
    "wordcloud = WordCloud(width=800, height=400, background_color='white').generate_from_frequencies(word_frequencies)\n",
    "\n",
    "# Plot the word cloud.\n",
    "plt.figure(figsize=(10, 5))\n",
    "plt.imshow(wordcloud, interpolation='bilinear')\n",
    "plt.axis('off')\n",
    "plt.title(\"Word Cloud from TF-IDF Scores\", fontsize=16)\n",
    "plt.show()"
   ]
  },
  {
   "cell_type": "markdown",
   "id": "993c3100-d1c9-4944-b640-43464ae39cfe",
   "metadata": {},
   "source": [
    "### Dictionary-based approach "
   ]
  },
  {
   "cell_type": "markdown",
   "id": "66d13031-cc4f-43dc-9134-334e4d6fc086",
   "metadata": {},
   "source": [
    "To analyze sentiment of a review we can use lexicon provided by Standford university. Lists of words are added to GitHub by authors. We label review as positive when score is positive (sum of positive words prevails). "
   ]
  },
  {
   "cell_type": "code",
   "execution_count": 30,
   "id": "4db49ef4-1726-4a68-b13a-60f14075b8b9",
   "metadata": {},
   "outputs": [
    {
     "name": "stderr",
     "output_type": "stream",
     "text": [
      "[nltk_data] Downloading package opinion_lexicon to\n",
      "[nltk_data]     C:\\Users\\Ярослав\\AppData\\Roaming\\nltk_data...\n",
      "[nltk_data]   Package opinion_lexicon is already up-to-date!\n",
      "[nltk_data] Downloading package punkt to\n",
      "[nltk_data]     C:\\Users\\Ярослав\\AppData\\Roaming\\nltk_data...\n",
      "[nltk_data]   Package punkt is already up-to-date!\n"
     ]
    }
   ],
   "source": [
    "nltk.download('opinion_lexicon') #download opinion dictionary\n",
    "nltk.download('punkt')\n",
    "positive_wds = set(opinion_lexicon.positive()) #https://gist.github.com/mkulakowski2/4289437\n",
    "negative_wds = set(opinion_lexicon.negative()) #https://gist.github.com/mkulakowski2/4289441"
   ]
  },
  {
   "cell_type": "markdown",
   "id": "60faaea0-efb3-447a-b824-91e1248cf9b5",
   "metadata": {},
   "source": [
    "We can test the dictionary on some made up short reviews. "
   ]
  },
  {
   "cell_type": "code",
   "execution_count": 31,
   "id": "a7e20cf5-59a3-4282-8196-ef61f26af8a1",
   "metadata": {},
   "outputs": [],
   "source": [
    "new_reviews = [\n",
    "    \"The movie was fantastic! I loved it.\",\n",
    "    \"It was okay, not the best but not the worst.\",\n",
    "    \"The plot was boring and predictable.\"\n",
    "]\n",
    "new_reviews_token = [word_tokenize(review) for review in new_reviews]"
   ]
  },
  {
   "cell_type": "code",
   "execution_count": 32,
   "id": "09041fe4-4f8f-4181-bd6c-20931406c21d",
   "metadata": {},
   "outputs": [
    {
     "data": {
      "text/html": [
       "<div>\n",
       "<style scoped>\n",
       "    .dataframe tbody tr th:only-of-type {\n",
       "        vertical-align: middle;\n",
       "    }\n",
       "\n",
       "    .dataframe tbody tr th {\n",
       "        vertical-align: top;\n",
       "    }\n",
       "\n",
       "    .dataframe thead th {\n",
       "        text-align: right;\n",
       "    }\n",
       "</style>\n",
       "<table border=\"1\" class=\"dataframe\">\n",
       "  <thead>\n",
       "    <tr style=\"text-align: right;\">\n",
       "      <th></th>\n",
       "      <th>Review</th>\n",
       "      <th>Sentiment Score</th>\n",
       "      <th>Category</th>\n",
       "    </tr>\n",
       "  </thead>\n",
       "  <tbody>\n",
       "    <tr>\n",
       "      <th>0</th>\n",
       "      <td>The movie was fantastic! I loved it.</td>\n",
       "      <td>2</td>\n",
       "      <td>Positive</td>\n",
       "    </tr>\n",
       "    <tr>\n",
       "      <th>1</th>\n",
       "      <td>It was okay, not the best but not the worst.</td>\n",
       "      <td>0</td>\n",
       "      <td>Neutral</td>\n",
       "    </tr>\n",
       "    <tr>\n",
       "      <th>2</th>\n",
       "      <td>The plot was boring and predictable.</td>\n",
       "      <td>-2</td>\n",
       "      <td>Negative</td>\n",
       "    </tr>\n",
       "  </tbody>\n",
       "</table>\n",
       "</div>"
      ],
      "text/plain": [
       "                                         Review  Sentiment Score  Category\n",
       "0          The movie was fantastic! I loved it.                2  Positive\n",
       "1  It was okay, not the best but not the worst.                0   Neutral\n",
       "2          The plot was boring and predictable.               -2  Negative"
      ]
     },
     "execution_count": 32,
     "metadata": {},
     "output_type": "execute_result"
    }
   ],
   "source": [
    "scores = [assign_sent_scores(review, positive_wds, negative_wds) for review in new_reviews_token]\n",
    "categories = [\"Positive\" if score > 0 else \"Negative\" if score < 0 else \"Neutral\" for score in scores]\n",
    "results_nltk = pd.DataFrame({\n",
    "    \"Review\": new_reviews,\n",
    "    \"Sentiment Score\": scores,\n",
    "    \"Category\": categories\n",
    "})\n",
    "results_nltk"
   ]
  },
  {
   "cell_type": "markdown",
   "id": "678b1978-f119-4b66-b9f3-817295db2013",
   "metadata": {},
   "source": [
    "Now we can apply the method to our cleaned data. "
   ]
  },
  {
   "cell_type": "code",
   "execution_count": 33,
   "id": "95750b21-2356-4801-9c86-2d3bd98616b4",
   "metadata": {},
   "outputs": [],
   "source": [
    "scores = [assign_sent_scores(review, positive_wds, negative_wds) for review in movie_data['clean_token_review']]\n",
    "categories = [\"Positive\" if score > 0 else \"Negative\" if score < 0 else \"Neutral\" for score in scores]"
   ]
  },
  {
   "cell_type": "code",
   "execution_count": 34,
   "id": "74cab047-8436-4723-842c-fb715f20dce4",
   "metadata": {},
   "outputs": [
    {
     "data": {
      "text/html": [
       "<div>\n",
       "<style scoped>\n",
       "    .dataframe tbody tr th:only-of-type {\n",
       "        vertical-align: middle;\n",
       "    }\n",
       "\n",
       "    .dataframe tbody tr th {\n",
       "        vertical-align: top;\n",
       "    }\n",
       "\n",
       "    .dataframe thead th {\n",
       "        text-align: right;\n",
       "    }\n",
       "</style>\n",
       "<table border=\"1\" class=\"dataframe\">\n",
       "  <thead>\n",
       "    <tr style=\"text-align: right;\">\n",
       "      <th></th>\n",
       "      <th>Review</th>\n",
       "      <th>Sentiment Score</th>\n",
       "      <th>Category</th>\n",
       "    </tr>\n",
       "  </thead>\n",
       "  <tbody>\n",
       "    <tr>\n",
       "      <th>0</th>\n",
       "      <td>One of the other reviewers has mentioned that ...</td>\n",
       "      <td>-7</td>\n",
       "      <td>Negative</td>\n",
       "    </tr>\n",
       "    <tr>\n",
       "      <th>1</th>\n",
       "      <td>A wonderful little production The filming tech...</td>\n",
       "      <td>10</td>\n",
       "      <td>Positive</td>\n",
       "    </tr>\n",
       "    <tr>\n",
       "      <th>2</th>\n",
       "      <td>I thought this was a wonderful way to spend ti...</td>\n",
       "      <td>5</td>\n",
       "      <td>Positive</td>\n",
       "    </tr>\n",
       "    <tr>\n",
       "      <th>3</th>\n",
       "      <td>Basically there's a family where a little boy ...</td>\n",
       "      <td>-4</td>\n",
       "      <td>Negative</td>\n",
       "    </tr>\n",
       "    <tr>\n",
       "      <th>4</th>\n",
       "      <td>Petter Mattei's Love in the Time of Money is a...</td>\n",
       "      <td>13</td>\n",
       "      <td>Positive</td>\n",
       "    </tr>\n",
       "    <tr>\n",
       "      <th>...</th>\n",
       "      <td>...</td>\n",
       "      <td>...</td>\n",
       "      <td>...</td>\n",
       "    </tr>\n",
       "    <tr>\n",
       "      <th>49995</th>\n",
       "      <td>I thought this movie did a down right good job...</td>\n",
       "      <td>13</td>\n",
       "      <td>Positive</td>\n",
       "    </tr>\n",
       "    <tr>\n",
       "      <th>49996</th>\n",
       "      <td>Bad plot bad dialogue bad acting idiotic direc...</td>\n",
       "      <td>-9</td>\n",
       "      <td>Negative</td>\n",
       "    </tr>\n",
       "    <tr>\n",
       "      <th>49997</th>\n",
       "      <td>I am a Catholic taught in parochial elementary...</td>\n",
       "      <td>-6</td>\n",
       "      <td>Negative</td>\n",
       "    </tr>\n",
       "    <tr>\n",
       "      <th>49998</th>\n",
       "      <td>I'm going to have to disagree with the previou...</td>\n",
       "      <td>-7</td>\n",
       "      <td>Negative</td>\n",
       "    </tr>\n",
       "    <tr>\n",
       "      <th>49999</th>\n",
       "      <td>No one expects the Star Trek movies to be high...</td>\n",
       "      <td>1</td>\n",
       "      <td>Positive</td>\n",
       "    </tr>\n",
       "  </tbody>\n",
       "</table>\n",
       "<p>50000 rows × 3 columns</p>\n",
       "</div>"
      ],
      "text/plain": [
       "                                                  Review  Sentiment Score  \\\n",
       "0      One of the other reviewers has mentioned that ...               -7   \n",
       "1      A wonderful little production The filming tech...               10   \n",
       "2      I thought this was a wonderful way to spend ti...                5   \n",
       "3      Basically there's a family where a little boy ...               -4   \n",
       "4      Petter Mattei's Love in the Time of Money is a...               13   \n",
       "...                                                  ...              ...   \n",
       "49995  I thought this movie did a down right good job...               13   \n",
       "49996  Bad plot bad dialogue bad acting idiotic direc...               -9   \n",
       "49997  I am a Catholic taught in parochial elementary...               -6   \n",
       "49998  I'm going to have to disagree with the previou...               -7   \n",
       "49999  No one expects the Star Trek movies to be high...                1   \n",
       "\n",
       "       Category  \n",
       "0      Negative  \n",
       "1      Positive  \n",
       "2      Positive  \n",
       "3      Negative  \n",
       "4      Positive  \n",
       "...         ...  \n",
       "49995  Positive  \n",
       "49996  Negative  \n",
       "49997  Negative  \n",
       "49998  Negative  \n",
       "49999  Positive  \n",
       "\n",
       "[50000 rows x 3 columns]"
      ]
     },
     "execution_count": 34,
     "metadata": {},
     "output_type": "execute_result"
    }
   ],
   "source": [
    "results_nltk = pd.DataFrame({\n",
    "    \"Review\": movie_data['clean_review'],\n",
    "    \"Sentiment Score\": scores,\n",
    "    \"Category\": categories\n",
    "})\n",
    "results_nltk"
   ]
  },
  {
   "cell_type": "code",
   "execution_count": 35,
   "id": "8d81ffec-4a88-4ccf-a89e-4377dc2b35f8",
   "metadata": {},
   "outputs": [
    {
     "data": {
      "text/plain": [
       "Category\n",
       "Positive    25597\n",
       "Negative    21129\n",
       "Neutral      3274\n",
       "Name: count, dtype: int64"
      ]
     },
     "execution_count": 35,
     "metadata": {},
     "output_type": "execute_result"
    }
   ],
   "source": [
    "results_nltk['Category'].value_counts()"
   ]
  },
  {
   "cell_type": "markdown",
   "id": "4f917c72-9ca5-4d5b-b57f-65536ec00597",
   "metadata": {},
   "source": [
    "### Dictionary-based approach for sentiment analysis with emotions"
   ]
  },
  {
   "cell_type": "markdown",
   "id": "23aa7c5b-b263-412d-86bd-742fcb3dccdb",
   "metadata": {},
   "source": [
    "For the purpose of sentiment analysis with 8 basic emotion assosiation (anger, fear, anticipation, trust, surprise, sadness, joy, and disgust) we use dictionary of National Research Council Canada. "
   ]
  },
  {
   "cell_type": "markdown",
   "id": "0f250f3d-c72e-4af6-be85-0f1b5ee3afc6",
   "metadata": {},
   "source": [
    "First we test on sample data."
   ]
  },
  {
   "cell_type": "code",
   "execution_count": 36,
   "id": "a95ebc92-c729-42cb-943d-62ff9dac6c9a",
   "metadata": {},
   "outputs": [],
   "source": [
    "emot_reviews = [\"The movie was absolutely thrilling! I loved every second of it, especially the plot twist at the end. The actors did a fantastic job and the direction was superb. Can't wait to see the next one!\",\n",
    "                 \"This movie was a total waste of time. The acting was terrible, the plot was predictable, and the pacing was so slow. I regret spending money on this.\",\n",
    "                \"I was really disappointed with the movie. Some scenes were enjoyable, but others were downright disturbing. The special effects were great, though. I expected more from the director.\"]"
   ]
  },
  {
   "cell_type": "code",
   "execution_count": 37,
   "id": "8ac622d0-f98a-4697-8fb7-fbf9688c91c4",
   "metadata": {},
   "outputs": [
    {
     "data": {
      "text/html": [
       "<div>\n",
       "<style scoped>\n",
       "    .dataframe tbody tr th:only-of-type {\n",
       "        vertical-align: middle;\n",
       "    }\n",
       "\n",
       "    .dataframe tbody tr th {\n",
       "        vertical-align: top;\n",
       "    }\n",
       "\n",
       "    .dataframe thead th {\n",
       "        text-align: right;\n",
       "    }\n",
       "</style>\n",
       "<table border=\"1\" class=\"dataframe\">\n",
       "  <thead>\n",
       "    <tr style=\"text-align: right;\">\n",
       "      <th></th>\n",
       "      <th>anger</th>\n",
       "      <th>anticipation</th>\n",
       "      <th>disgust</th>\n",
       "      <th>fear</th>\n",
       "      <th>joy</th>\n",
       "      <th>sadness</th>\n",
       "      <th>surprise</th>\n",
       "      <th>trust</th>\n",
       "      <th>negative</th>\n",
       "      <th>positive</th>\n",
       "    </tr>\n",
       "  </thead>\n",
       "  <tbody>\n",
       "    <tr>\n",
       "      <th>0</th>\n",
       "      <td>0</td>\n",
       "      <td>2</td>\n",
       "      <td>0</td>\n",
       "      <td>0</td>\n",
       "      <td>1</td>\n",
       "      <td>0</td>\n",
       "      <td>1</td>\n",
       "      <td>0</td>\n",
       "      <td>1</td>\n",
       "      <td>3</td>\n",
       "    </tr>\n",
       "    <tr>\n",
       "      <th>1</th>\n",
       "      <td>2</td>\n",
       "      <td>2</td>\n",
       "      <td>2</td>\n",
       "      <td>1</td>\n",
       "      <td>1</td>\n",
       "      <td>2</td>\n",
       "      <td>1</td>\n",
       "      <td>1</td>\n",
       "      <td>3</td>\n",
       "      <td>1</td>\n",
       "    </tr>\n",
       "    <tr>\n",
       "      <th>2</th>\n",
       "      <td>1</td>\n",
       "      <td>1</td>\n",
       "      <td>1</td>\n",
       "      <td>0</td>\n",
       "      <td>1</td>\n",
       "      <td>1</td>\n",
       "      <td>0</td>\n",
       "      <td>2</td>\n",
       "      <td>1</td>\n",
       "      <td>2</td>\n",
       "    </tr>\n",
       "  </tbody>\n",
       "</table>\n",
       "</div>"
      ],
      "text/plain": [
       "   anger  anticipation  disgust  fear  joy  sadness  surprise  trust  \\\n",
       "0      0             2        0     0    1        0         1      0   \n",
       "1      2             2        2     1    1        2         1      1   \n",
       "2      1             1        1     0    1        1         0      2   \n",
       "\n",
       "   negative  positive  \n",
       "0         1         3  \n",
       "1         3         1  \n",
       "2         1         2  "
      ]
     },
     "execution_count": 37,
     "metadata": {},
     "output_type": "execute_result"
    }
   ],
   "source": [
    "emotion_data = [get_emotion_scores(review) for review in emot_reviews]\n",
    "pd.DataFrame(emotion_data)"
   ]
  },
  {
   "cell_type": "markdown",
   "id": "86bbad27-7220-4c9a-bff5-49b1e7ac66e8",
   "metadata": {},
   "source": [
    "Same for prepared data."
   ]
  },
  {
   "cell_type": "code",
   "execution_count": 38,
   "id": "53e69494-603e-4383-989c-20eb5fb3f49a",
   "metadata": {},
   "outputs": [
    {
     "data": {
      "text/html": [
       "<div>\n",
       "<style scoped>\n",
       "    .dataframe tbody tr th:only-of-type {\n",
       "        vertical-align: middle;\n",
       "    }\n",
       "\n",
       "    .dataframe tbody tr th {\n",
       "        vertical-align: top;\n",
       "    }\n",
       "\n",
       "    .dataframe thead th {\n",
       "        text-align: right;\n",
       "    }\n",
       "</style>\n",
       "<table border=\"1\" class=\"dataframe\">\n",
       "  <thead>\n",
       "    <tr style=\"text-align: right;\">\n",
       "      <th></th>\n",
       "      <th>anger</th>\n",
       "      <th>anticipation</th>\n",
       "      <th>disgust</th>\n",
       "      <th>fear</th>\n",
       "      <th>joy</th>\n",
       "      <th>sadness</th>\n",
       "      <th>surprise</th>\n",
       "      <th>trust</th>\n",
       "      <th>negative</th>\n",
       "      <th>positive</th>\n",
       "    </tr>\n",
       "  </thead>\n",
       "  <tbody>\n",
       "    <tr>\n",
       "      <th>0</th>\n",
       "      <td>11</td>\n",
       "      <td>6</td>\n",
       "      <td>3</td>\n",
       "      <td>13</td>\n",
       "      <td>2</td>\n",
       "      <td>11</td>\n",
       "      <td>1</td>\n",
       "      <td>9</td>\n",
       "      <td>20</td>\n",
       "      <td>7</td>\n",
       "    </tr>\n",
       "    <tr>\n",
       "      <th>1</th>\n",
       "      <td>0</td>\n",
       "      <td>2</td>\n",
       "      <td>1</td>\n",
       "      <td>2</td>\n",
       "      <td>2</td>\n",
       "      <td>1</td>\n",
       "      <td>1</td>\n",
       "      <td>4</td>\n",
       "      <td>1</td>\n",
       "      <td>14</td>\n",
       "    </tr>\n",
       "    <tr>\n",
       "      <th>2</th>\n",
       "      <td>2</td>\n",
       "      <td>7</td>\n",
       "      <td>1</td>\n",
       "      <td>0</td>\n",
       "      <td>3</td>\n",
       "      <td>1</td>\n",
       "      <td>2</td>\n",
       "      <td>4</td>\n",
       "      <td>1</td>\n",
       "      <td>6</td>\n",
       "    </tr>\n",
       "    <tr>\n",
       "      <th>3</th>\n",
       "      <td>2</td>\n",
       "      <td>2</td>\n",
       "      <td>1</td>\n",
       "      <td>3</td>\n",
       "      <td>1</td>\n",
       "      <td>4</td>\n",
       "      <td>2</td>\n",
       "      <td>2</td>\n",
       "      <td>5</td>\n",
       "      <td>2</td>\n",
       "    </tr>\n",
       "    <tr>\n",
       "      <th>4</th>\n",
       "      <td>1</td>\n",
       "      <td>10</td>\n",
       "      <td>0</td>\n",
       "      <td>3</td>\n",
       "      <td>9</td>\n",
       "      <td>2</td>\n",
       "      <td>5</td>\n",
       "      <td>7</td>\n",
       "      <td>2</td>\n",
       "      <td>14</td>\n",
       "    </tr>\n",
       "    <tr>\n",
       "      <th>...</th>\n",
       "      <td>...</td>\n",
       "      <td>...</td>\n",
       "      <td>...</td>\n",
       "      <td>...</td>\n",
       "      <td>...</td>\n",
       "      <td>...</td>\n",
       "      <td>...</td>\n",
       "      <td>...</td>\n",
       "      <td>...</td>\n",
       "      <td>...</td>\n",
       "    </tr>\n",
       "    <tr>\n",
       "      <th>49995</th>\n",
       "      <td>1</td>\n",
       "      <td>12</td>\n",
       "      <td>0</td>\n",
       "      <td>1</td>\n",
       "      <td>8</td>\n",
       "      <td>0</td>\n",
       "      <td>3</td>\n",
       "      <td>8</td>\n",
       "      <td>1</td>\n",
       "      <td>15</td>\n",
       "    </tr>\n",
       "    <tr>\n",
       "      <th>49996</th>\n",
       "      <td>6</td>\n",
       "      <td>3</td>\n",
       "      <td>5</td>\n",
       "      <td>5</td>\n",
       "      <td>2</td>\n",
       "      <td>5</td>\n",
       "      <td>0</td>\n",
       "      <td>1</td>\n",
       "      <td>8</td>\n",
       "      <td>3</td>\n",
       "    </tr>\n",
       "    <tr>\n",
       "      <th>49997</th>\n",
       "      <td>4</td>\n",
       "      <td>8</td>\n",
       "      <td>1</td>\n",
       "      <td>7</td>\n",
       "      <td>7</td>\n",
       "      <td>5</td>\n",
       "      <td>1</td>\n",
       "      <td>13</td>\n",
       "      <td>10</td>\n",
       "      <td>14</td>\n",
       "    </tr>\n",
       "    <tr>\n",
       "      <th>49998</th>\n",
       "      <td>7</td>\n",
       "      <td>3</td>\n",
       "      <td>5</td>\n",
       "      <td>7</td>\n",
       "      <td>2</td>\n",
       "      <td>4</td>\n",
       "      <td>2</td>\n",
       "      <td>6</td>\n",
       "      <td>10</td>\n",
       "      <td>9</td>\n",
       "    </tr>\n",
       "    <tr>\n",
       "      <th>49999</th>\n",
       "      <td>0</td>\n",
       "      <td>4</td>\n",
       "      <td>0</td>\n",
       "      <td>2</td>\n",
       "      <td>3</td>\n",
       "      <td>1</td>\n",
       "      <td>5</td>\n",
       "      <td>3</td>\n",
       "      <td>2</td>\n",
       "      <td>7</td>\n",
       "    </tr>\n",
       "  </tbody>\n",
       "</table>\n",
       "<p>50000 rows × 10 columns</p>\n",
       "</div>"
      ],
      "text/plain": [
       "       anger  anticipation  disgust  fear  joy  sadness  surprise  trust  \\\n",
       "0         11             6        3    13    2       11         1      9   \n",
       "1          0             2        1     2    2        1         1      4   \n",
       "2          2             7        1     0    3        1         2      4   \n",
       "3          2             2        1     3    1        4         2      2   \n",
       "4          1            10        0     3    9        2         5      7   \n",
       "...      ...           ...      ...   ...  ...      ...       ...    ...   \n",
       "49995      1            12        0     1    8        0         3      8   \n",
       "49996      6             3        5     5    2        5         0      1   \n",
       "49997      4             8        1     7    7        5         1     13   \n",
       "49998      7             3        5     7    2        4         2      6   \n",
       "49999      0             4        0     2    3        1         5      3   \n",
       "\n",
       "       negative  positive  \n",
       "0            20         7  \n",
       "1             1        14  \n",
       "2             1         6  \n",
       "3             5         2  \n",
       "4             2        14  \n",
       "...         ...       ...  \n",
       "49995         1        15  \n",
       "49996         8         3  \n",
       "49997        10        14  \n",
       "49998        10         9  \n",
       "49999         2         7  \n",
       "\n",
       "[50000 rows x 10 columns]"
      ]
     },
     "execution_count": 38,
     "metadata": {},
     "output_type": "execute_result"
    }
   ],
   "source": [
    "emotion_data = [get_emotion_scores(review) for review in movie_data['clean_review']]\n",
    "emotion_results = pd.DataFrame(emotion_data)\n",
    "emotion_results"
   ]
  },
  {
   "cell_type": "code",
   "execution_count": 35,
   "id": "95277046-a036-4c47-b9f0-b787271aea40",
   "metadata": {},
   "outputs": [
    {
     "data": {
      "image/png": "[encoded data removed]",
      "text/plain": [
       "<Figure size 1000x600 with 1 Axes>"
      ]
     },
     "metadata": {},
     "output_type": "display_data"
    }
   ],
   "source": [
    "emotion_sums = emotion_results.sum() #sum of emotions scores\n",
    "plt.figure(figsize=(10, 6))\n",
    "plt.bar(emotion_sums.index, emotion_sums.values, color=plt.cm.rainbow(np.linspace(0, 1, len(emotion_sums))))\n",
    "\n",
    "# Customize the plot\n",
    "plt.xlabel('Emotions')\n",
    "plt.ylabel('Sentiment Scores')\n",
    "plt.title('Sentiment Scores of Movie Rewiews')\n",
    "plt.xticks(rotation=45, ha='right')  # Rotate the x-axis labels for better visibility\n",
    "plt.tight_layout()"
   ]
  },
  {
   "cell_type": "markdown",
   "id": "c11ae9c0-3e07-4aea-8b1a-72a2cc456d8c",
   "metadata": {},
   "source": [
    "### Basic logistic regression"
   ]
  },
  {
   "cell_type": "markdown",
   "id": "88c86d25-a829-4de0-93f0-5f9daf67637c",
   "metadata": {},
   "source": [
    "In our project we use traditional Machine Learning models - Logistic Regression and Support Vector Machines. Naive Bayesian Classifier is effective for text classification but will be discussed on the lectures later. Neural networks like Recurrent Neural Networks (RNNs) are not used as number of observations is not sufficient for neural network to be efficient in terms of computation terms. "
   ]
  },
  {
   "cell_type": "code",
   "execution_count": 40,
   "id": "63fb6837-9ec3-4e56-bebf-910de77a5e1a",
   "metadata": {},
   "outputs": [
    {
     "data": {
      "text/html": [
       "<style>#sk-container-id-1 {\n",
       "  /* Definition of color scheme common for light and dark mode */\n",
       "  --sklearn-color-text: black;\n",
       "  --sklearn-color-line: gray;\n",
       "  /* Definition of color scheme for unfitted estimators */\n",
       "  --sklearn-color-unfitted-level-0: #fff5e6;\n",
       "  --sklearn-color-unfitted-level-1: #f6e4d2;\n",
       "  --sklearn-color-unfitted-level-2: #ffe0b3;\n",
       "  --sklearn-color-unfitted-level-3: chocolate;\n",
       "  /* Definition of color scheme for fitted estimators */\n",
       "  --sklearn-color-fitted-level-0: #f0f8ff;\n",
       "  --sklearn-color-fitted-level-1: #d4ebff;\n",
       "  --sklearn-color-fitted-level-2: #b3dbfd;\n",
       "  --sklearn-color-fitted-level-3: cornflowerblue;\n",
       "\n",
       "  /* Specific color for light theme */\n",
       "  --sklearn-color-text-on-default-background: var(--sg-text-color, var(--theme-code-foreground, var(--jp-content-font-color1, black)));\n",
       "  --sklearn-color-background: var(--sg-background-color, var(--theme-background, var(--jp-layout-color0, white)));\n",
       "  --sklearn-color-border-box: var(--sg-text-color, var(--theme-code-foreground, var(--jp-content-font-color1, black)));\n",
       "  --sklearn-color-icon: #696969;\n",
       "\n",
       "  @media (prefers-color-scheme: dark) {\n",
       "    /* Redefinition of color scheme for dark theme */\n",
       "    --sklearn-color-text-on-default-background: var(--sg-text-color, var(--theme-code-foreground, var(--jp-content-font-color1, white)));\n",
       "    --sklearn-color-background: var(--sg-background-color, var(--theme-background, var(--jp-layout-color0, #111)));\n",
       "    --sklearn-color-border-box: var(--sg-text-color, var(--theme-code-foreground, var(--jp-content-font-color1, white)));\n",
       "    --sklearn-color-icon: #878787;\n",
       "  }\n",
       "}\n",
       "\n",
       "#sk-container-id-1 {\n",
       "  color: var(--sklearn-color-text);\n",
       "}\n",
       "\n",
       "#sk-container-id-1 pre {\n",
       "  padding: 0;\n",
       "}\n",
       "\n",
       "#sk-container-id-1 input.sk-hidden--visually {\n",
       "  border: 0;\n",
       "  clip: rect(1px 1px 1px 1px);\n",
       "  clip: rect(1px, 1px, 1px, 1px);\n",
       "  height: 1px;\n",
       "  margin: -1px;\n",
       "  overflow: hidden;\n",
       "  padding: 0;\n",
       "  position: absolute;\n",
       "  width: 1px;\n",
       "}\n",
       "\n",
       "#sk-container-id-1 div.sk-dashed-wrapped {\n",
       "  border: 1px dashed var(--sklearn-color-line);\n",
       "  margin: 0 0.4em 0.5em 0.4em;\n",
       "  box-sizing: border-box;\n",
       "  padding-bottom: 0.4em;\n",
       "  background-color: var(--sklearn-color-background);\n",
       "}\n",
       "\n",
       "#sk-container-id-1 div.sk-container {\n",
       "  /* jupyter's `normalize.less` sets `[hidden] { display: none; }`\n",
       "     but bootstrap.min.css set `[hidden] { display: none !important; }`\n",
       "     so we also need the `!important` here to be able to override the\n",
       "     default hidden behavior on the sphinx rendered scikit-learn.org.\n",
       "     See: https://github.com/scikit-learn/scikit-learn/issues/21755 */\n",
       "  display: inline-block !important;\n",
       "  position: relative;\n",
       "}\n",
       "\n",
       "#sk-container-id-1 div.sk-text-repr-fallback {\n",
       "  display: none;\n",
       "}\n",
       "\n",
       "div.sk-parallel-item,\n",
       "div.sk-serial,\n",
       "div.sk-item {\n",
       "  /* draw centered vertical line to link estimators */\n",
       "  background-image: linear-gradient(var(--sklearn-color-text-on-default-background), var(--sklearn-color-text-on-default-background));\n",
       "  background-size: 2px 100%;\n",
       "  background-repeat: no-repeat;\n",
       "  background-position: center center;\n",
       "}\n",
       "\n",
       "/* Parallel-specific style estimator block */\n",
       "\n",
       "#sk-container-id-1 div.sk-parallel-item::after {\n",
       "  content: \"\";\n",
       "  width: 100%;\n",
       "  border-bottom: 2px solid var(--sklearn-color-text-on-default-background);\n",
       "  flex-grow: 1;\n",
       "}\n",
       "\n",
       "#sk-container-id-1 div.sk-parallel {\n",
       "  display: flex;\n",
       "  align-items: stretch;\n",
       "  justify-content: center;\n",
       "  background-color: var(--sklearn-color-background);\n",
       "  position: relative;\n",
       "}\n",
       "\n",
       "#sk-container-id-1 div.sk-parallel-item {\n",
       "  display: flex;\n",
       "  flex-direction: column;\n",
       "}\n",
       "\n",
       "#sk-container-id-1 div.sk-parallel-item:first-child::after {\n",
       "  align-self: flex-end;\n",
       "  width: 50%;\n",
       "}\n",
       "\n",
       "#sk-container-id-1 div.sk-parallel-item:last-child::after {\n",
       "  align-self: flex-start;\n",
       "  width: 50%;\n",
       "}\n",
       "\n",
       "#sk-container-id-1 div.sk-parallel-item:only-child::after {\n",
       "  width: 0;\n",
       "}\n",
       "\n",
       "/* Serial-specific style estimator block */\n",
       "\n",
       "#sk-container-id-1 div.sk-serial {\n",
       "  display: flex;\n",
       "  flex-direction: column;\n",
       "  align-items: center;\n",
       "  background-color: var(--sklearn-color-background);\n",
       "  padding-right: 1em;\n",
       "  padding-left: 1em;\n",
       "}\n",
       "\n",
       "\n",
       "/* Toggleable style: style used for estimator/Pipeline/ColumnTransformer box that is\n",
       "clickable and can be expanded/collapsed.\n",
       "- Pipeline and ColumnTransformer use this feature and define the default style\n",
       "- Estimators will overwrite some part of the style using the `sk-estimator` class\n",
       "*/\n",
       "\n",
       "/* Pipeline and ColumnTransformer style (default) */\n",
       "\n",
       "#sk-container-id-1 div.sk-toggleable {\n",
       "  /* Default theme specific background. It is overwritten whether we have a\n",
       "  specific estimator or a Pipeline/ColumnTransformer */\n",
       "  background-color: var(--sklearn-color-background);\n",
       "}\n",
       "\n",
       "/* Toggleable label */\n",
       "#sk-container-id-1 label.sk-toggleable__label {\n",
       "  cursor: pointer;\n",
       "  display: block;\n",
       "  width: 100%;\n",
       "  margin-bottom: 0;\n",
       "  padding: 0.5em;\n",
       "  box-sizing: border-box;\n",
       "  text-align: center;\n",
       "}\n",
       "\n",
       "#sk-container-id-1 label.sk-toggleable__label-arrow:before {\n",
       "  /* Arrow on the left of the label */\n",
       "  content: \"▸\";\n",
       "  float: left;\n",
       "  margin-right: 0.25em;\n",
       "  color: var(--sklearn-color-icon);\n",
       "}\n",
       "\n",
       "#sk-container-id-1 label.sk-toggleable__label-arrow:hover:before {\n",
       "  color: var(--sklearn-color-text);\n",
       "}\n",
       "\n",
       "/* Toggleable content - dropdown */\n",
       "\n",
       "#sk-container-id-1 div.sk-toggleable__content {\n",
       "  max-height: 0;\n",
       "  max-width: 0;\n",
       "  overflow: hidden;\n",
       "  text-align: left;\n",
       "  /* unfitted */\n",
       "  background-color: var(--sklearn-color-unfitted-level-0);\n",
       "}\n",
       "\n",
       "#sk-container-id-1 div.sk-toggleable__content.fitted {\n",
       "  /* fitted */\n",
       "  background-color: var(--sklearn-color-fitted-level-0);\n",
       "}\n",
       "\n",
       "#sk-container-id-1 div.sk-toggleable__content pre {\n",
       "  margin: 0.2em;\n",
       "  border-radius: 0.25em;\n",
       "  color: var(--sklearn-color-text);\n",
       "  /* unfitted */\n",
       "  background-color: var(--sklearn-color-unfitted-level-0);\n",
       "}\n",
       "\n",
       "#sk-container-id-1 div.sk-toggleable__content.fitted pre {\n",
       "  /* unfitted */\n",
       "  background-color: var(--sklearn-color-fitted-level-0);\n",
       "}\n",
       "\n",
       "#sk-container-id-1 input.sk-toggleable__control:checked~div.sk-toggleable__content {\n",
       "  /* Expand drop-down */\n",
       "  max-height: 200px;\n",
       "  max-width: 100%;\n",
       "  overflow: auto;\n",
       "}\n",
       "\n",
       "#sk-container-id-1 input.sk-toggleable__control:checked~label.sk-toggleable__label-arrow:before {\n",
       "  content: \"▾\";\n",
       "}\n",
       "\n",
       "/* Pipeline/ColumnTransformer-specific style */\n",
       "\n",
       "#sk-container-id-1 div.sk-label input.sk-toggleable__control:checked~label.sk-toggleable__label {\n",
       "  color: var(--sklearn-color-text);\n",
       "  background-color: var(--sklearn-color-unfitted-level-2);\n",
       "}\n",
       "\n",
       "#sk-container-id-1 div.sk-label.fitted input.sk-toggleable__control:checked~label.sk-toggleable__label {\n",
       "  background-color: var(--sklearn-color-fitted-level-2);\n",
       "}\n",
       "\n",
       "/* Estimator-specific style */\n",
       "\n",
       "/* Colorize estimator box */\n",
       "#sk-container-id-1 div.sk-estimator input.sk-toggleable__control:checked~label.sk-toggleable__label {\n",
       "  /* unfitted */\n",
       "  background-color: var(--sklearn-color-unfitted-level-2);\n",
       "}\n",
       "\n",
       "#sk-container-id-1 div.sk-estimator.fitted input.sk-toggleable__control:checked~label.sk-toggleable__label {\n",
       "  /* fitted */\n",
       "  background-color: var(--sklearn-color-fitted-level-2);\n",
       "}\n",
       "\n",
       "#sk-container-id-1 div.sk-label label.sk-toggleable__label,\n",
       "#sk-container-id-1 div.sk-label label {\n",
       "  /* The background is the default theme color */\n",
       "  color: var(--sklearn-color-text-on-default-background);\n",
       "}\n",
       "\n",
       "/* On hover, darken the color of the background */\n",
       "#sk-container-id-1 div.sk-label:hover label.sk-toggleable__label {\n",
       "  color: var(--sklearn-color-text);\n",
       "  background-color: var(--sklearn-color-unfitted-level-2);\n",
       "}\n",
       "\n",
       "/* Label box, darken color on hover, fitted */\n",
       "#sk-container-id-1 div.sk-label.fitted:hover label.sk-toggleable__label.fitted {\n",
       "  color: var(--sklearn-color-text);\n",
       "  background-color: var(--sklearn-color-fitted-level-2);\n",
       "}\n",
       "\n",
       "/* Estimator label */\n",
       "\n",
       "#sk-container-id-1 div.sk-label label {\n",
       "  font-family: monospace;\n",
       "  font-weight: bold;\n",
       "  display: inline-block;\n",
       "  line-height: 1.2em;\n",
       "}\n",
       "\n",
       "#sk-container-id-1 div.sk-label-container {\n",
       "  text-align: center;\n",
       "}\n",
       "\n",
       "/* Estimator-specific */\n",
       "#sk-container-id-1 div.sk-estimator {\n",
       "  font-family: monospace;\n",
       "  border: 1px dotted var(--sklearn-color-border-box);\n",
       "  border-radius: 0.25em;\n",
       "  box-sizing: border-box;\n",
       "  margin-bottom: 0.5em;\n",
       "  /* unfitted */\n",
       "  background-color: var(--sklearn-color-unfitted-level-0);\n",
       "}\n",
       "\n",
       "#sk-container-id-1 div.sk-estimator.fitted {\n",
       "  /* fitted */\n",
       "  background-color: var(--sklearn-color-fitted-level-0);\n",
       "}\n",
       "\n",
       "/* on hover */\n",
       "#sk-container-id-1 div.sk-estimator:hover {\n",
       "  /* unfitted */\n",
       "  background-color: var(--sklearn-color-unfitted-level-2);\n",
       "}\n",
       "\n",
       "#sk-container-id-1 div.sk-estimator.fitted:hover {\n",
       "  /* fitted */\n",
       "  background-color: var(--sklearn-color-fitted-level-2);\n",
       "}\n",
       "\n",
       "/* Specification for estimator info (e.g. \"i\" and \"?\") */\n",
       "\n",
       "/* Common style for \"i\" and \"?\" */\n",
       "\n",
       ".sk-estimator-doc-link,\n",
       "a:link.sk-estimator-doc-link,\n",
       "a:visited.sk-estimator-doc-link {\n",
       "  float: right;\n",
       "  font-size: smaller;\n",
       "  line-height: 1em;\n",
       "  font-family: monospace;\n",
       "  background-color: var(--sklearn-color-background);\n",
       "  border-radius: 1em;\n",
       "  height: 1em;\n",
       "  width: 1em;\n",
       "  text-decoration: none !important;\n",
       "  margin-left: 1ex;\n",
       "  /* unfitted */\n",
       "  border: var(--sklearn-color-unfitted-level-1) 1pt solid;\n",
       "  color: var(--sklearn-color-unfitted-level-1);\n",
       "}\n",
       "\n",
       ".sk-estimator-doc-link.fitted,\n",
       "a:link.sk-estimator-doc-link.fitted,\n",
       "a:visited.sk-estimator-doc-link.fitted {\n",
       "  /* fitted */\n",
       "  border: var(--sklearn-color-fitted-level-1) 1pt solid;\n",
       "  color: var(--sklearn-color-fitted-level-1);\n",
       "}\n",
       "\n",
       "/* On hover */\n",
       "div.sk-estimator:hover .sk-estimator-doc-link:hover,\n",
       ".sk-estimator-doc-link:hover,\n",
       "div.sk-label-container:hover .sk-estimator-doc-link:hover,\n",
       ".sk-estimator-doc-link:hover {\n",
       "  /* unfitted */\n",
       "  background-color: var(--sklearn-color-unfitted-level-3);\n",
       "  color: var(--sklearn-color-background);\n",
       "  text-decoration: none;\n",
       "}\n",
       "\n",
       "div.sk-estimator.fitted:hover .sk-estimator-doc-link.fitted:hover,\n",
       ".sk-estimator-doc-link.fitted:hover,\n",
       "div.sk-label-container:hover .sk-estimator-doc-link.fitted:hover,\n",
       ".sk-estimator-doc-link.fitted:hover {\n",
       "  /* fitted */\n",
       "  background-color: var(--sklearn-color-fitted-level-3);\n",
       "  color: var(--sklearn-color-background);\n",
       "  text-decoration: none;\n",
       "}\n",
       "\n",
       "/* Span, style for the box shown on hovering the info icon */\n",
       ".sk-estimator-doc-link span {\n",
       "  display: none;\n",
       "  z-index: 9999;\n",
       "  position: relative;\n",
       "  font-weight: normal;\n",
       "  right: .2ex;\n",
       "  padding: .5ex;\n",
       "  margin: .5ex;\n",
       "  width: min-content;\n",
       "  min-width: 20ex;\n",
       "  max-width: 50ex;\n",
       "  color: var(--sklearn-color-text);\n",
       "  box-shadow: 2pt 2pt 4pt #999;\n",
       "  /* unfitted */\n",
       "  background: var(--sklearn-color-unfitted-level-0);\n",
       "  border: .5pt solid var(--sklearn-color-unfitted-level-3);\n",
       "}\n",
       "\n",
       ".sk-estimator-doc-link.fitted span {\n",
       "  /* fitted */\n",
       "  background: var(--sklearn-color-fitted-level-0);\n",
       "  border: var(--sklearn-color-fitted-level-3);\n",
       "}\n",
       "\n",
       ".sk-estimator-doc-link:hover span {\n",
       "  display: block;\n",
       "}\n",
       "\n",
       "/* \"?\"-specific style due to the `<a>` HTML tag */\n",
       "\n",
       "#sk-container-id-1 a.estimator_doc_link {\n",
       "  float: right;\n",
       "  font-size: 1rem;\n",
       "  line-height: 1em;\n",
       "  font-family: monospace;\n",
       "  background-color: var(--sklearn-color-background);\n",
       "  border-radius: 1rem;\n",
       "  height: 1rem;\n",
       "  width: 1rem;\n",
       "  text-decoration: none;\n",
       "  /* unfitted */\n",
       "  color: var(--sklearn-color-unfitted-level-1);\n",
       "  border: var(--sklearn-color-unfitted-level-1) 1pt solid;\n",
       "}\n",
       "\n",
       "#sk-container-id-1 a.estimator_doc_link.fitted {\n",
       "  /* fitted */\n",
       "  border: var(--sklearn-color-fitted-level-1) 1pt solid;\n",
       "  color: var(--sklearn-color-fitted-level-1);\n",
       "}\n",
       "\n",
       "/* On hover */\n",
       "#sk-container-id-1 a.estimator_doc_link:hover {\n",
       "  /* unfitted */\n",
       "  background-color: var(--sklearn-color-unfitted-level-3);\n",
       "  color: var(--sklearn-color-background);\n",
       "  text-decoration: none;\n",
       "}\n",
       "\n",
       "#sk-container-id-1 a.estimator_doc_link.fitted:hover {\n",
       "  /* fitted */\n",
       "  background-color: var(--sklearn-color-fitted-level-3);\n",
       "}\n",
       "</style><div id=\"sk-container-id-1\" class=\"sk-top-container\"><div class=\"sk-text-repr-fallback\"><pre>LogisticRegression()</pre><b>In a Jupyter environment, please rerun this cell to show the HTML representation or trust the notebook. <br />On GitHub, the HTML representation is unable to render, please try loading this page with nbviewer.org.</b></div><div class=\"sk-container\" hidden><div class=\"sk-item\"><div class=\"sk-estimator fitted sk-toggleable\"><input class=\"sk-toggleable__control sk-hidden--visually\" id=\"sk-estimator-id-1\" type=\"checkbox\" checked><label for=\"sk-estimator-id-1\" class=\"sk-toggleable__label fitted sk-toggleable__label-arrow fitted\">&nbsp;&nbsp;LogisticRegression<a class=\"sk-estimator-doc-link fitted\" rel=\"noreferrer\" target=\"_blank\" href=\"https://scikit-learn.org/1.4/modules/generated/sklearn.linear_model.LogisticRegression.html\">?<span>Documentation for LogisticRegression</span></a><span class=\"sk-estimator-doc-link fitted\">i<span>Fitted</span></span></label><div class=\"sk-toggleable__content fitted\"><pre>LogisticRegression()</pre></div> </div></div></div></div>"
      ],
      "text/plain": [
       "LogisticRegression()"
      ]
     },
     "execution_count": 40,
     "metadata": {},
     "output_type": "execute_result"
    }
   ],
   "source": [
    "log_reg = LogisticRegression()\n",
    "log_reg.fit(train_x_tfidf,y_train)"
   ]
  },
  {
   "cell_type": "code",
   "execution_count": 41,
   "id": "32a23f0b-9187-46c9-9b72-b3efa4ca63a2",
   "metadata": {},
   "outputs": [
    {
     "name": "stdout",
     "output_type": "stream",
     "text": [
      "[[6828  761]\n",
      " [ 907 6504]]\n"
     ]
    }
   ],
   "source": [
    "print(confusion_matrix(y_test,\n",
    "                           log_reg.predict(test_x_tfidf),\n",
    "                           labels = ['positive', 'negative']))"
   ]
  },
  {
   "cell_type": "markdown",
   "id": "6333d8eb-4bbe-4cbe-a58d-e425f8ca2c0b",
   "metadata": {},
   "source": [
    "761 cases where the model incorrectly predicted review as \"negative\" when the actual review was \"positive\"\n",
    "\n",
    "907 cases where predicted was \"positive\" when in fact it is \"negative\""
   ]
  },
  {
   "cell_type": "code",
   "execution_count": 42,
   "id": "c4d49da6-931c-44ae-9d24-e93f3678793d",
   "metadata": {},
   "outputs": [
    {
     "name": "stdout",
     "output_type": "stream",
     "text": [
      "              precision    recall  f1-score   support\n",
      "\n",
      "    positive       0.88      0.90      0.89      7589\n",
      "    negative       0.90      0.88      0.89      7411\n",
      "\n",
      "    accuracy                           0.89     15000\n",
      "   macro avg       0.89      0.89      0.89     15000\n",
      "weighted avg       0.89      0.89      0.89     15000\n",
      "\n"
     ]
    }
   ],
   "source": [
    "print(classification_report(y_test,\n",
    "                            log_reg.predict(test_x_tfidf),\n",
    "                            labels = ['positive','negative']))"
   ]
  },
  {
   "cell_type": "markdown",
   "id": "de885d67-df03-4f15-af10-cae665d9a7b1",
   "metadata": {},
   "source": [
    "### Support Vector Classifier"
   ]
  },
  {
   "cell_type": "markdown",
   "id": "5476f3f1-c52d-4918-91d7-f4b5d80afd1a",
   "metadata": {},
   "source": [
    "The goal of an SVM classifier is to find a decision boundary that best separates the data points of different classes. "
   ]
  },
  {
   "cell_type": "code",
   "execution_count": 45,
   "id": "00baf12a-9001-4e9e-af92-e68d9a226b20",
   "metadata": {},
   "outputs": [
    {
     "data": {
      "text/html": [
       "<style>#sk-container-id-2 {\n",
       "  /* Definition of color scheme common for light and dark mode */\n",
       "  --sklearn-color-text: black;\n",
       "  --sklearn-color-line: gray;\n",
       "  /* Definition of color scheme for unfitted estimators */\n",
       "  --sklearn-color-unfitted-level-0: #fff5e6;\n",
       "  --sklearn-color-unfitted-level-1: #f6e4d2;\n",
       "  --sklearn-color-unfitted-level-2: #ffe0b3;\n",
       "  --sklearn-color-unfitted-level-3: chocolate;\n",
       "  /* Definition of color scheme for fitted estimators */\n",
       "  --sklearn-color-fitted-level-0: #f0f8ff;\n",
       "  --sklearn-color-fitted-level-1: #d4ebff;\n",
       "  --sklearn-color-fitted-level-2: #b3dbfd;\n",
       "  --sklearn-color-fitted-level-3: cornflowerblue;\n",
       "\n",
       "  /* Specific color for light theme */\n",
       "  --sklearn-color-text-on-default-background: var(--sg-text-color, var(--theme-code-foreground, var(--jp-content-font-color1, black)));\n",
       "  --sklearn-color-background: var(--sg-background-color, var(--theme-background, var(--jp-layout-color0, white)));\n",
       "  --sklearn-color-border-box: var(--sg-text-color, var(--theme-code-foreground, var(--jp-content-font-color1, black)));\n",
       "  --sklearn-color-icon: #696969;\n",
       "\n",
       "  @media (prefers-color-scheme: dark) {\n",
       "    /* Redefinition of color scheme for dark theme */\n",
       "    --sklearn-color-text-on-default-background: var(--sg-text-color, var(--theme-code-foreground, var(--jp-content-font-color1, white)));\n",
       "    --sklearn-color-background: var(--sg-background-color, var(--theme-background, var(--jp-layout-color0, #111)));\n",
       "    --sklearn-color-border-box: var(--sg-text-color, var(--theme-code-foreground, var(--jp-content-font-color1, white)));\n",
       "    --sklearn-color-icon: #878787;\n",
       "  }\n",
       "}\n",
       "\n",
       "#sk-container-id-2 {\n",
       "  color: var(--sklearn-color-text);\n",
       "}\n",
       "\n",
       "#sk-container-id-2 pre {\n",
       "  padding: 0;\n",
       "}\n",
       "\n",
       "#sk-container-id-2 input.sk-hidden--visually {\n",
       "  border: 0;\n",
       "  clip: rect(1px 1px 1px 1px);\n",
       "  clip: rect(1px, 1px, 1px, 1px);\n",
       "  height: 1px;\n",
       "  margin: -1px;\n",
       "  overflow: hidden;\n",
       "  padding: 0;\n",
       "  position: absolute;\n",
       "  width: 1px;\n",
       "}\n",
       "\n",
       "#sk-container-id-2 div.sk-dashed-wrapped {\n",
       "  border: 1px dashed var(--sklearn-color-line);\n",
       "  margin: 0 0.4em 0.5em 0.4em;\n",
       "  box-sizing: border-box;\n",
       "  padding-bottom: 0.4em;\n",
       "  background-color: var(--sklearn-color-background);\n",
       "}\n",
       "\n",
       "#sk-container-id-2 div.sk-container {\n",
       "  /* jupyter's `normalize.less` sets `[hidden] { display: none; }`\n",
       "     but bootstrap.min.css set `[hidden] { display: none !important; }`\n",
       "     so we also need the `!important` here to be able to override the\n",
       "     default hidden behavior on the sphinx rendered scikit-learn.org.\n",
       "     See: https://github.com/scikit-learn/scikit-learn/issues/21755 */\n",
       "  display: inline-block !important;\n",
       "  position: relative;\n",
       "}\n",
       "\n",
       "#sk-container-id-2 div.sk-text-repr-fallback {\n",
       "  display: none;\n",
       "}\n",
       "\n",
       "div.sk-parallel-item,\n",
       "div.sk-serial,\n",
       "div.sk-item {\n",
       "  /* draw centered vertical line to link estimators */\n",
       "  background-image: linear-gradient(var(--sklearn-color-text-on-default-background), var(--sklearn-color-text-on-default-background));\n",
       "  background-size: 2px 100%;\n",
       "  background-repeat: no-repeat;\n",
       "  background-position: center center;\n",
       "}\n",
       "\n",
       "/* Parallel-specific style estimator block */\n",
       "\n",
       "#sk-container-id-2 div.sk-parallel-item::after {\n",
       "  content: \"\";\n",
       "  width: 100%;\n",
       "  border-bottom: 2px solid var(--sklearn-color-text-on-default-background);\n",
       "  flex-grow: 1;\n",
       "}\n",
       "\n",
       "#sk-container-id-2 div.sk-parallel {\n",
       "  display: flex;\n",
       "  align-items: stretch;\n",
       "  justify-content: center;\n",
       "  background-color: var(--sklearn-color-background);\n",
       "  position: relative;\n",
       "}\n",
       "\n",
       "#sk-container-id-2 div.sk-parallel-item {\n",
       "  display: flex;\n",
       "  flex-direction: column;\n",
       "}\n",
       "\n",
       "#sk-container-id-2 div.sk-parallel-item:first-child::after {\n",
       "  align-self: flex-end;\n",
       "  width: 50%;\n",
       "}\n",
       "\n",
       "#sk-container-id-2 div.sk-parallel-item:last-child::after {\n",
       "  align-self: flex-start;\n",
       "  width: 50%;\n",
       "}\n",
       "\n",
       "#sk-container-id-2 div.sk-parallel-item:only-child::after {\n",
       "  width: 0;\n",
       "}\n",
       "\n",
       "/* Serial-specific style estimator block */\n",
       "\n",
       "#sk-container-id-2 div.sk-serial {\n",
       "  display: flex;\n",
       "  flex-direction: column;\n",
       "  align-items: center;\n",
       "  background-color: var(--sklearn-color-background);\n",
       "  padding-right: 1em;\n",
       "  padding-left: 1em;\n",
       "}\n",
       "\n",
       "\n",
       "/* Toggleable style: style used for estimator/Pipeline/ColumnTransformer box that is\n",
       "clickable and can be expanded/collapsed.\n",
       "- Pipeline and ColumnTransformer use this feature and define the default style\n",
       "- Estimators will overwrite some part of the style using the `sk-estimator` class\n",
       "*/\n",
       "\n",
       "/* Pipeline and ColumnTransformer style (default) */\n",
       "\n",
       "#sk-container-id-2 div.sk-toggleable {\n",
       "  /* Default theme specific background. It is overwritten whether we have a\n",
       "  specific estimator or a Pipeline/ColumnTransformer */\n",
       "  background-color: var(--sklearn-color-background);\n",
       "}\n",
       "\n",
       "/* Toggleable label */\n",
       "#sk-container-id-2 label.sk-toggleable__label {\n",
       "  cursor: pointer;\n",
       "  display: block;\n",
       "  width: 100%;\n",
       "  margin-bottom: 0;\n",
       "  padding: 0.5em;\n",
       "  box-sizing: border-box;\n",
       "  text-align: center;\n",
       "}\n",
       "\n",
       "#sk-container-id-2 label.sk-toggleable__label-arrow:before {\n",
       "  /* Arrow on the left of the label */\n",
       "  content: \"▸\";\n",
       "  float: left;\n",
       "  margin-right: 0.25em;\n",
       "  color: var(--sklearn-color-icon);\n",
       "}\n",
       "\n",
       "#sk-container-id-2 label.sk-toggleable__label-arrow:hover:before {\n",
       "  color: var(--sklearn-color-text);\n",
       "}\n",
       "\n",
       "/* Toggleable content - dropdown */\n",
       "\n",
       "#sk-container-id-2 div.sk-toggleable__content {\n",
       "  max-height: 0;\n",
       "  max-width: 0;\n",
       "  overflow: hidden;\n",
       "  text-align: left;\n",
       "  /* unfitted */\n",
       "  background-color: var(--sklearn-color-unfitted-level-0);\n",
       "}\n",
       "\n",
       "#sk-container-id-2 div.sk-toggleable__content.fitted {\n",
       "  /* fitted */\n",
       "  background-color: var(--sklearn-color-fitted-level-0);\n",
       "}\n",
       "\n",
       "#sk-container-id-2 div.sk-toggleable__content pre {\n",
       "  margin: 0.2em;\n",
       "  border-radius: 0.25em;\n",
       "  color: var(--sklearn-color-text);\n",
       "  /* unfitted */\n",
       "  background-color: var(--sklearn-color-unfitted-level-0);\n",
       "}\n",
       "\n",
       "#sk-container-id-2 div.sk-toggleable__content.fitted pre {\n",
       "  /* unfitted */\n",
       "  background-color: var(--sklearn-color-fitted-level-0);\n",
       "}\n",
       "\n",
       "#sk-container-id-2 input.sk-toggleable__control:checked~div.sk-toggleable__content {\n",
       "  /* Expand drop-down */\n",
       "  max-height: 200px;\n",
       "  max-width: 100%;\n",
       "  overflow: auto;\n",
       "}\n",
       "\n",
       "#sk-container-id-2 input.sk-toggleable__control:checked~label.sk-toggleable__label-arrow:before {\n",
       "  content: \"▾\";\n",
       "}\n",
       "\n",
       "/* Pipeline/ColumnTransformer-specific style */\n",
       "\n",
       "#sk-container-id-2 div.sk-label input.sk-toggleable__control:checked~label.sk-toggleable__label {\n",
       "  color: var(--sklearn-color-text);\n",
       "  background-color: var(--sklearn-color-unfitted-level-2);\n",
       "}\n",
       "\n",
       "#sk-container-id-2 div.sk-label.fitted input.sk-toggleable__control:checked~label.sk-toggleable__label {\n",
       "  background-color: var(--sklearn-color-fitted-level-2);\n",
       "}\n",
       "\n",
       "/* Estimator-specific style */\n",
       "\n",
       "/* Colorize estimator box */\n",
       "#sk-container-id-2 div.sk-estimator input.sk-toggleable__control:checked~label.sk-toggleable__label {\n",
       "  /* unfitted */\n",
       "  background-color: var(--sklearn-color-unfitted-level-2);\n",
       "}\n",
       "\n",
       "#sk-container-id-2 div.sk-estimator.fitted input.sk-toggleable__control:checked~label.sk-toggleable__label {\n",
       "  /* fitted */\n",
       "  background-color: var(--sklearn-color-fitted-level-2);\n",
       "}\n",
       "\n",
       "#sk-container-id-2 div.sk-label label.sk-toggleable__label,\n",
       "#sk-container-id-2 div.sk-label label {\n",
       "  /* The background is the default theme color */\n",
       "  color: var(--sklearn-color-text-on-default-background);\n",
       "}\n",
       "\n",
       "/* On hover, darken the color of the background */\n",
       "#sk-container-id-2 div.sk-label:hover label.sk-toggleable__label {\n",
       "  color: var(--sklearn-color-text);\n",
       "  background-color: var(--sklearn-color-unfitted-level-2);\n",
       "}\n",
       "\n",
       "/* Label box, darken color on hover, fitted */\n",
       "#sk-container-id-2 div.sk-label.fitted:hover label.sk-toggleable__label.fitted {\n",
       "  color: var(--sklearn-color-text);\n",
       "  background-color: var(--sklearn-color-fitted-level-2);\n",
       "}\n",
       "\n",
       "/* Estimator label */\n",
       "\n",
       "#sk-container-id-2 div.sk-label label {\n",
       "  font-family: monospace;\n",
       "  font-weight: bold;\n",
       "  display: inline-block;\n",
       "  line-height: 1.2em;\n",
       "}\n",
       "\n",
       "#sk-container-id-2 div.sk-label-container {\n",
       "  text-align: center;\n",
       "}\n",
       "\n",
       "/* Estimator-specific */\n",
       "#sk-container-id-2 div.sk-estimator {\n",
       "  font-family: monospace;\n",
       "  border: 1px dotted var(--sklearn-color-border-box);\n",
       "  border-radius: 0.25em;\n",
       "  box-sizing: border-box;\n",
       "  margin-bottom: 0.5em;\n",
       "  /* unfitted */\n",
       "  background-color: var(--sklearn-color-unfitted-level-0);\n",
       "}\n",
       "\n",
       "#sk-container-id-2 div.sk-estimator.fitted {\n",
       "  /* fitted */\n",
       "  background-color: var(--sklearn-color-fitted-level-0);\n",
       "}\n",
       "\n",
       "/* on hover */\n",
       "#sk-container-id-2 div.sk-estimator:hover {\n",
       "  /* unfitted */\n",
       "  background-color: var(--sklearn-color-unfitted-level-2);\n",
       "}\n",
       "\n",
       "#sk-container-id-2 div.sk-estimator.fitted:hover {\n",
       "  /* fitted */\n",
       "  background-color: var(--sklearn-color-fitted-level-2);\n",
       "}\n",
       "\n",
       "/* Specification for estimator info (e.g. \"i\" and \"?\") */\n",
       "\n",
       "/* Common style for \"i\" and \"?\" */\n",
       "\n",
       ".sk-estimator-doc-link,\n",
       "a:link.sk-estimator-doc-link,\n",
       "a:visited.sk-estimator-doc-link {\n",
       "  float: right;\n",
       "  font-size: smaller;\n",
       "  line-height: 1em;\n",
       "  font-family: monospace;\n",
       "  background-color: var(--sklearn-color-background);\n",
       "  border-radius: 1em;\n",
       "  height: 1em;\n",
       "  width: 1em;\n",
       "  text-decoration: none !important;\n",
       "  margin-left: 1ex;\n",
       "  /* unfitted */\n",
       "  border: var(--sklearn-color-unfitted-level-1) 1pt solid;\n",
       "  color: var(--sklearn-color-unfitted-level-1);\n",
       "}\n",
       "\n",
       ".sk-estimator-doc-link.fitted,\n",
       "a:link.sk-estimator-doc-link.fitted,\n",
       "a:visited.sk-estimator-doc-link.fitted {\n",
       "  /* fitted */\n",
       "  border: var(--sklearn-color-fitted-level-1) 1pt solid;\n",
       "  color: var(--sklearn-color-fitted-level-1);\n",
       "}\n",
       "\n",
       "/* On hover */\n",
       "div.sk-estimator:hover .sk-estimator-doc-link:hover,\n",
       ".sk-estimator-doc-link:hover,\n",
       "div.sk-label-container:hover .sk-estimator-doc-link:hover,\n",
       ".sk-estimator-doc-link:hover {\n",
       "  /* unfitted */\n",
       "  background-color: var(--sklearn-color-unfitted-level-3);\n",
       "  color: var(--sklearn-color-background);\n",
       "  text-decoration: none;\n",
       "}\n",
       "\n",
       "div.sk-estimator.fitted:hover .sk-estimator-doc-link.fitted:hover,\n",
       ".sk-estimator-doc-link.fitted:hover,\n",
       "div.sk-label-container:hover .sk-estimator-doc-link.fitted:hover,\n",
       ".sk-estimator-doc-link.fitted:hover {\n",
       "  /* fitted */\n",
       "  background-color: var(--sklearn-color-fitted-level-3);\n",
       "  color: var(--sklearn-color-background);\n",
       "  text-decoration: none;\n",
       "}\n",
       "\n",
       "/* Span, style for the box shown on hovering the info icon */\n",
       ".sk-estimator-doc-link span {\n",
       "  display: none;\n",
       "  z-index: 9999;\n",
       "  position: relative;\n",
       "  font-weight: normal;\n",
       "  right: .2ex;\n",
       "  padding: .5ex;\n",
       "  margin: .5ex;\n",
       "  width: min-content;\n",
       "  min-width: 20ex;\n",
       "  max-width: 50ex;\n",
       "  color: var(--sklearn-color-text);\n",
       "  box-shadow: 2pt 2pt 4pt #999;\n",
       "  /* unfitted */\n",
       "  background: var(--sklearn-color-unfitted-level-0);\n",
       "  border: .5pt solid var(--sklearn-color-unfitted-level-3);\n",
       "}\n",
       "\n",
       ".sk-estimator-doc-link.fitted span {\n",
       "  /* fitted */\n",
       "  background: var(--sklearn-color-fitted-level-0);\n",
       "  border: var(--sklearn-color-fitted-level-3);\n",
       "}\n",
       "\n",
       ".sk-estimator-doc-link:hover span {\n",
       "  display: block;\n",
       "}\n",
       "\n",
       "/* \"?\"-specific style due to the `<a>` HTML tag */\n",
       "\n",
       "#sk-container-id-2 a.estimator_doc_link {\n",
       "  float: right;\n",
       "  font-size: 1rem;\n",
       "  line-height: 1em;\n",
       "  font-family: monospace;\n",
       "  background-color: var(--sklearn-color-background);\n",
       "  border-radius: 1rem;\n",
       "  height: 1rem;\n",
       "  width: 1rem;\n",
       "  text-decoration: none;\n",
       "  /* unfitted */\n",
       "  color: var(--sklearn-color-unfitted-level-1);\n",
       "  border: var(--sklearn-color-unfitted-level-1) 1pt solid;\n",
       "}\n",
       "\n",
       "#sk-container-id-2 a.estimator_doc_link.fitted {\n",
       "  /* fitted */\n",
       "  border: var(--sklearn-color-fitted-level-1) 1pt solid;\n",
       "  color: var(--sklearn-color-fitted-level-1);\n",
       "}\n",
       "\n",
       "/* On hover */\n",
       "#sk-container-id-2 a.estimator_doc_link:hover {\n",
       "  /* unfitted */\n",
       "  background-color: var(--sklearn-color-unfitted-level-3);\n",
       "  color: var(--sklearn-color-background);\n",
       "  text-decoration: none;\n",
       "}\n",
       "\n",
       "#sk-container-id-2 a.estimator_doc_link.fitted:hover {\n",
       "  /* fitted */\n",
       "  background-color: var(--sklearn-color-fitted-level-3);\n",
       "}\n",
       "</style><div id=\"sk-container-id-2\" class=\"sk-top-container\"><div class=\"sk-text-repr-fallback\"><pre>SVC()</pre><b>In a Jupyter environment, please rerun this cell to show the HTML representation or trust the notebook. <br />On GitHub, the HTML representation is unable to render, please try loading this page with nbviewer.org.</b></div><div class=\"sk-container\" hidden><div class=\"sk-item\"><div class=\"sk-estimator fitted sk-toggleable\"><input class=\"sk-toggleable__control sk-hidden--visually\" id=\"sk-estimator-id-2\" type=\"checkbox\" checked><label for=\"sk-estimator-id-2\" class=\"sk-toggleable__label fitted sk-toggleable__label-arrow fitted\">&nbsp;&nbsp;SVC<a class=\"sk-estimator-doc-link fitted\" rel=\"noreferrer\" target=\"_blank\" href=\"https://scikit-learn.org/1.4/modules/generated/sklearn.svm.SVC.html\">?<span>Documentation for SVC</span></a><span class=\"sk-estimator-doc-link fitted\">i<span>Fitted</span></span></label><div class=\"sk-toggleable__content fitted\"><pre>SVC()</pre></div> </div></div></div></div>"
      ],
      "text/plain": [
       "SVC()"
      ]
     },
     "execution_count": 45,
     "metadata": {},
     "output_type": "execute_result"
    }
   ],
   "source": [
    "svc = SVC()\n",
    "svc.fit(train_x_tfidf, y_train)"
   ]
  },
  {
   "cell_type": "code",
   "execution_count": 46,
   "id": "eb44803b-ffe4-40c7-a491-d9dd397001e7",
   "metadata": {},
   "outputs": [
    {
     "name": "stdout",
     "output_type": "stream",
     "text": [
      "[[6903  686]\n",
      " [ 882 6529]]\n"
     ]
    }
   ],
   "source": [
    "print(confusion_matrix(y_test,\n",
    "                           svc.predict(test_x_tfidf),\n",
    "                           labels = ['positive', 'negative']))"
   ]
  },
  {
   "cell_type": "code",
   "execution_count": 47,
   "id": "ec857001-c49a-445a-be19-eec5b2218312",
   "metadata": {},
   "outputs": [
    {
     "name": "stdout",
     "output_type": "stream",
     "text": [
      "              precision    recall  f1-score   support\n",
      "\n",
      "    positive       0.89      0.91      0.90      7589\n",
      "    negative       0.90      0.88      0.89      7411\n",
      "\n",
      "    accuracy                           0.90     15000\n",
      "   macro avg       0.90      0.90      0.90     15000\n",
      "weighted avg       0.90      0.90      0.90     15000\n",
      "\n"
     ]
    }
   ],
   "source": [
    "print(classification_report(y_test,\n",
    "                            svc.predict(test_x_tfidf),\n",
    "                            labels = ['positive','negative']))"
   ]
  },
  {
   "cell_type": "markdown",
   "id": "4ee318af-ffc5-4b5a-a8b5-f5d8c41df633",
   "metadata": {},
   "source": [
    "### Predict sentiment of a new review with SVC model"
   ]
  },
  {
   "cell_type": "markdown",
   "id": "46238827-54a1-4e39-b86c-e0eafd11c955",
   "metadata": {},
   "source": [
    "Using the function described above we can predict the sentiment with ML model"
   ]
  },
  {
   "cell_type": "code",
   "execution_count": 48,
   "id": "9e7434d9-4408-45b9-91db-e601947ee16c",
   "metadata": {},
   "outputs": [
    {
     "name": "stdout",
     "output_type": "stream",
     "text": [
      "Sentiment: positive\n"
     ]
    }
   ],
   "source": [
    "# Example of model usage\n",
    "new_review = \"An absolutely fantastic film! The actors gave such powerful performances. Highly recommend it!\"\n",
    "sentiment = preprocess_predict(new_review, svc)\n",
    "print(f\"Sentiment: {sentiment}\")"
   ]
  },
  {
   "cell_type": "code",
   "execution_count": 49,
   "id": "3630c72d-4b76-42d4-9a00-36f38907c9a5",
   "metadata": {},
   "outputs": [
    {
     "name": "stdout",
     "output_type": "stream",
     "text": [
      "Sentiment: negative\n"
     ]
    }
   ],
   "source": [
    "new_review = \"I had high hopes, but this movie fell flat. The story made no sense. Definitely not worth watching.\"\n",
    "sentiment = preprocess_predict(new_review, svc)\n",
    "print(f\"Sentiment: {sentiment}\")"
   ]
  },
  {
   "cell_type": "code",
   "execution_count": 44,
   "id": "1c62c3cb-bbc1-4a9a-8350-9b31013c6bb8",
   "metadata": {},
   "outputs": [
    {
     "name": "stdout",
     "output_type": "stream",
     "text": [
      "Sentiment: negative\n"
     ]
    }
   ],
   "source": [
    "new_review = \"The movie had moments of brilliance, especially with the stunning cinematography and the lead actor's heartfelt performance. However, the plot felt unnecessarily convoluted, leaving me confused and disengaged at times. While the music score was mesmerizing and elevated some scenes, the pacing dragged in the second half, making it hard to stay invested. I appreciate the director's ambition, but the execution fell short of the emotional depth it aimed to achieve. It's neither a complete triumph nor a total disaster—just a missed opportunity.\"\n",
    "sentiment = preprocess_predict(new_review, log_reg)\n",
    "print(f\"Sentiment: {sentiment}\")"
   ]
  },
  {
   "cell_type": "code",
   "execution_count": 50,
   "id": "580a1ef8-db41-46a2-9686-a5685cea0041",
   "metadata": {},
   "outputs": [
    {
     "name": "stdout",
     "output_type": "stream",
     "text": [
      "Sentiment: negative\n"
     ]
    }
   ],
   "source": [
    "new_review = \"The movie had moments of brilliance, especially with the stunning cinematography and the lead actor's heartfelt performance. However, the plot felt unnecessarily convoluted, leaving me confused and disengaged at times. While the music score was mesmerizing and elevated some scenes, the pacing dragged in the second half, making it hard to stay invested. I appreciate the director's ambition, but the execution fell short of the emotional depth it aimed to achieve. It's neither a complete triumph nor a total disaster—just a missed opportunity.\"\n",
    "sentiment = preprocess_predict(new_review, svc)\n",
    "print(f\"Sentiment: {sentiment}\")"
   ]
  }
 ],
 "metadata": {
  "kernelspec": {
   "display_name": "Python 3 (ipykernel)",
   "language": "python",
   "name": "python3"
  },
  "language_info": {
   "codemirror_mode": {
    "name": "ipython",
    "version": 3
   },
   "file_extension": ".py",
   "mimetype": "text/x-python",
   "name": "python",
   "nbconvert_exporter": "python",
   "pygments_lexer": "ipython3",
   "version": "3.12.3"
  },
  "panel-cell-order": [
   "e82c3609-1c8f-4c59-8665-8a9499e1d0e0",
   "5ca4e37e-d8b6-4165-8e30-ce2f874a715a",
   "f0fd6817-d3ea-4beb-b5fb-5c882fce3e99",
   "47a45d06-7dcd-48c4-9703-736e85c15222",
   "5cae3c16-6970-4f8f-9b80-388360147ed6",
   "701e83f1-892d-45a1-b9bf-0003e5cb0254",
   "80ed1579-ab97-4e16-b60a-ae3baec95910",
   "02f9f22d-65e5-46f3-81e5-9881c6669a02",
   "2ba865e2-1d93-4815-8550-4256903512b3",
   "7790081d-86c1-4447-aa40-0b88db404bb7",
   "d22a846f-6524-440d-aa5b-8515c2ffcdf8",
   "a36cc378-a5bd-40ac-8084-04ce1406ff76"
  ]
 },
 "nbformat": 4,
 "nbformat_minor": 5
}
